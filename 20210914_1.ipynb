{
  "nbformat": 4,
  "nbformat_minor": 0,
  "metadata": {
    "colab": {
      "name": "20210914-1.ipynb",
      "provenance": [],
      "authorship_tag": "ABX9TyMwNB8AMSkcEJB9coyjrjRF",
      "include_colab_link": true
    },
    "kernelspec": {
      "name": "python3",
      "display_name": "Python 3"
    },
    "language_info": {
      "name": "python"
    }
  },
  "cells": [
    {
      "cell_type": "markdown",
      "metadata": {
        "id": "view-in-github",
        "colab_type": "text"
      },
      "source": [
        "<a href=\"https://colab.research.google.com/github/dongin0524/python/blob/main/20210914_1.ipynb\" target=\"_parent\"><img src=\"https://colab.research.google.com/assets/colab-badge.svg\" alt=\"Open In Colab\"/></a>"
      ]
    },
    {
      "cell_type": "code",
      "metadata": {
        "colab": {
          "base_uri": "https://localhost:8080/"
        },
        "id": "SknhHAyRiS6x",
        "outputId": "01a5ca7d-c490-4c50-b6b9-6afcb986b0d4"
      },
      "source": [
        "a = (1,2,3)\n",
        "b = (00000)\n",
        "print(type(a))\n",
        "print(type(b))"
      ],
      "execution_count": null,
      "outputs": [
        {
          "output_type": "stream",
          "name": "stdout",
          "text": [
            "<class 'tuple'>\n",
            "<class 'int'>\n"
          ]
        }
      ]
    },
    {
      "cell_type": "code",
      "metadata": {
        "colab": {
          "base_uri": "https://localhost:8080/"
        },
        "id": "utb1pCCFi2Ol",
        "outputId": "ad01bec8-c200-441a-971d-9cd17e904abf"
      },
      "source": [
        "b = (1)\n",
        "print(type(b))"
      ],
      "execution_count": null,
      "outputs": [
        {
          "output_type": "stream",
          "name": "stdout",
          "text": [
            "<class 'int'>\n"
          ]
        }
      ]
    },
    {
      "cell_type": "code",
      "metadata": {
        "colab": {
          "base_uri": "https://localhost:8080/"
        },
        "id": "n4LAoSNUj2XZ",
        "outputId": "359cf678-687f-4696-9600-8c2a0375f8e4"
      },
      "source": [
        "c=(1,)\n",
        "print(type(c))"
      ],
      "execution_count": null,
      "outputs": [
        {
          "output_type": "stream",
          "name": "stdout",
          "text": [
            "<class 'tuple'>\n"
          ]
        }
      ]
    },
    {
      "cell_type": "code",
      "metadata": {
        "colab": {
          "base_uri": "https://localhost:8080/"
        },
        "id": "v6QLO70dkDWJ",
        "outputId": "996f6c03-af36-408b-d72d-b6964c16d556"
      },
      "source": [
        "a = (1,2,3)\n",
        "print(a[1])\n",
        "print(type(a[1]))\n",
        "print(a[2:])"
      ],
      "execution_count": null,
      "outputs": [
        {
          "output_type": "stream",
          "name": "stdout",
          "text": [
            "2\n",
            "<class 'int'>\n",
            "(3,)\n"
          ]
        }
      ]
    },
    {
      "cell_type": "code",
      "metadata": {
        "colab": {
          "base_uri": "https://localhost:8080/"
        },
        "id": "mmZyzfpfkPcZ",
        "outputId": "7a9919c4-f002-477b-93ad-81bb2c78ac99"
      },
      "source": [
        "d = (1,2)\n",
        "e = (3,4,5)\n",
        "f = d+e\n",
        "print(f)\n",
        "g = e*3\n",
        "print(g)"
      ],
      "execution_count": null,
      "outputs": [
        {
          "output_type": "stream",
          "name": "stdout",
          "text": [
            "(1, 2, 3, 4, 5)\n",
            "(3, 4, 5, 3, 4, 5, 3, 4, 5)\n"
          ]
        }
      ]
    },
    {
      "cell_type": "code",
      "metadata": {
        "colab": {
          "base_uri": "https://localhost:8080/"
        },
        "id": "HZbGmkFpkx6i",
        "outputId": "bc282ebc-435a-46f3-ff03-3af1aa9a1868"
      },
      "source": [
        "a = [2,4,6,8,12,14]\n",
        "b = (1,2,3,4,5)\n",
        "print(type(a))\n",
        "print(type(b))"
      ],
      "execution_count": null,
      "outputs": [
        {
          "output_type": "stream",
          "name": "stdout",
          "text": [
            "<class 'list'>\n",
            "<class 'tuple'>\n"
          ]
        }
      ]
    },
    {
      "cell_type": "code",
      "metadata": {
        "colab": {
          "base_uri": "https://localhost:8080/"
        },
        "id": "nlTGJ5KelTV6",
        "outputId": "4e2bebf4-cacf-4ab5-fe36-57b04b15ca11"
      },
      "source": [
        "name, age = ('yang', 17)\n",
        "print(name,age)\n",
        "print(type(name))\n",
        "print(type(age))"
      ],
      "execution_count": null,
      "outputs": [
        {
          "output_type": "stream",
          "name": "stdout",
          "text": [
            "yang 17\n",
            "<class 'str'>\n",
            "<class 'int'>\n"
          ]
        }
      ]
    },
    {
      "cell_type": "code",
      "metadata": {
        "colab": {
          "base_uri": "https://localhost:8080/"
        },
        "id": "CivEIdfglpFo",
        "outputId": "b3d72521-44ff-4a60-c4d8-e09cff521583"
      },
      "source": [
        "c = {1,2,3,3,3,3,33,3,3,3,3,3,3,3,3,3,3,3,3,3,3,3,3,3,3,3,3,3,3,3,3,3,3,3,3,3,3,3,3,1,2}\n",
        "print(c)\n",
        "print(type(c))\n",
        "c.add(11)\n",
        "print(c)\n",
        "c.remove(33)\n",
        "print(c)\n",
        "c.update({9,99,999,9999})\n",
        "print(c)                                                                                                 .clear()\n",
        "print(c)"
      ],
      "execution_count": null,
      "outputs": [
        {
          "output_type": "stream",
          "name": "stdout",
          "text": [
            "{1, 2, 3, 33}\n",
            "<class 'set'>\n",
            "{1, 2, 3, 33, 11}\n",
            "{1, 2, 3, 11}\n",
            "{1, 2, 3, 99, 999, 9, 11, 9999}\n",
            "set()\n"
          ]
        }
      ]
    },
    {
      "cell_type": "code",
      "metadata": {
        "colab": {
          "base_uri": "https://localhost:8080/"
        },
        "id": "akTN5_TSl61X",
        "outputId": "c69bd4ab-fc11-4ee9-cb14-94da338de7e9"
      },
      "source": [
        "d=[1]\n",
        "e=(1,)\n",
        "f={1}\n",
        "print(type(d))\n",
        "print(type(e))\n",
        "print(type(f))"
      ],
      "execution_count": null,
      "outputs": [
        {
          "output_type": "stream",
          "name": "stdout",
          "text": [
            "<class 'list'>\n",
            "<class 'tuple'>\n",
            "<class 'set'>\n"
          ]
        }
      ]
    }
  ]
}