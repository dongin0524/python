{
  "nbformat": 4,
  "nbformat_minor": 0,
  "metadata": {
    "colab": {
      "name": "20211001-1.ipynb",
      "provenance": [],
      "authorship_tag": "ABX9TyNQynYIssX2bMsJsQ1W1i0s",
      "include_colab_link": true
    },
    "kernelspec": {
      "name": "python3",
      "display_name": "Python 3"
    },
    "language_info": {
      "name": "python"
    }
  },
  "cells": [
    {
      "cell_type": "markdown",
      "metadata": {
        "id": "view-in-github",
        "colab_type": "text"
      },
      "source": [
        "<a href=\"https://colab.research.google.com/github/dongin0524/python/blob/main/20211001_1.ipynb\" target=\"_parent\"><img src=\"https://colab.research.google.com/assets/colab-badge.svg\" alt=\"Open In Colab\"/></a>"
      ]
    },
    {
      "cell_type": "code",
      "metadata": {
        "colab": {
          "base_uri": "https://localhost:8080/"
        },
        "id": "khtPh37pTv8Z",
        "outputId": "f36d2d6d-959d-49b9-c313-47e2b3950254"
      },
      "source": [
        "import random\n",
        "\n",
        "num = random.randrange(1,4)\n",
        "\n",
        "print(num)"
      ],
      "execution_count": null,
      "outputs": [
        {
          "output_type": "stream",
          "name": "stdout",
          "text": [
            "2\n"
          ]
        }
      ]
    },
    {
      "cell_type": "code",
      "metadata": {
        "colab": {
          "base_uri": "https://localhost:8080/"
        },
        "id": "Z91sMt0bT99K",
        "outputId": "a8df83d8-2cd4-47da-f14b-78dfb0a09803"
      },
      "source": [
        "count = 0\n",
        "\n",
        "while count<11:\n",
        "   print(count, end=' ')\n",
        "   count = count + 1"
      ],
      "execution_count": null,
      "outputs": [
        {
          "output_type": "stream",
          "name": "stdout",
          "text": [
            "0 1 2 3 4 5 6 7 8 9 10 "
          ]
        }
      ]
    },
    {
      "cell_type": "code",
      "metadata": {
        "id": "ch7XGm2DUdh5"
      },
      "source": [
        "import time\n",
        "while True:\n",
        "    print('a', end =' ')\n",
        "    time.sleep(6)"
      ],
      "execution_count": null,
      "outputs": []
    },
    {
      "cell_type": "code",
      "metadata": {
        "colab": {
          "base_uri": "https://localhost:8080/",
          "height": 1000
        },
        "id": "ceDzW-8WU1zd",
        "outputId": "5eab3933-e18e-481a-a618-9eecf981f4df"
      },
      "source": [
        "import random\n",
        "import time\n",
        "\n",
        "mywin = 0\n",
        "comwin = 0\n",
        "\n",
        "while True:\n",
        "   num = random.randrange(1,4) #1은 가위 2는 바위 3은 보\n",
        "   if num==1:\n",
        "       mywin = mywin + 1\n",
        "   elif num==3:\n",
        "       comwin = comwin + 1\n",
        "   elif num==2:\n",
        "       print('비겼다')\n",
        "   print('홍동인: {0}승 {1}패, 컴퓨터 : {1}승 {0}패'.format(mywin, comwin))\n",
        "   time.sleep(0.1)"
      ],
      "execution_count": null,
      "outputs": [
        {
          "output_type": "stream",
          "name": "stdout",
          "text": [
            "홍동인: 0승 1패, 컴퓨터 : 1승 0패\n",
            "비겼다\n",
            "홍동인: 0승 1패, 컴퓨터 : 1승 0패\n",
            "홍동인: 1승 1패, 컴퓨터 : 1승 1패\n",
            "홍동인: 2승 1패, 컴퓨터 : 1승 2패\n",
            "홍동인: 3승 1패, 컴퓨터 : 1승 3패\n",
            "홍동인: 4승 1패, 컴퓨터 : 1승 4패\n",
            "비겼다\n",
            "홍동인: 4승 1패, 컴퓨터 : 1승 4패\n",
            "홍동인: 5승 1패, 컴퓨터 : 1승 5패\n",
            "홍동인: 5승 2패, 컴퓨터 : 2승 5패\n",
            "비겼다\n",
            "홍동인: 5승 2패, 컴퓨터 : 2승 5패\n",
            "홍동인: 6승 2패, 컴퓨터 : 2승 6패\n",
            "홍동인: 6승 3패, 컴퓨터 : 3승 6패\n",
            "비겼다\n",
            "홍동인: 6승 3패, 컴퓨터 : 3승 6패\n",
            "홍동인: 6승 4패, 컴퓨터 : 4승 6패\n",
            "비겼다\n",
            "홍동인: 6승 4패, 컴퓨터 : 4승 6패\n",
            "홍동인: 6승 5패, 컴퓨터 : 5승 6패\n",
            "비겼다\n",
            "홍동인: 6승 5패, 컴퓨터 : 5승 6패\n",
            "홍동인: 7승 5패, 컴퓨터 : 5승 7패\n",
            "홍동인: 7승 6패, 컴퓨터 : 6승 7패\n",
            "비겼다\n",
            "홍동인: 7승 6패, 컴퓨터 : 6승 7패\n",
            "홍동인: 7승 7패, 컴퓨터 : 7승 7패\n",
            "홍동인: 8승 7패, 컴퓨터 : 7승 8패\n",
            "홍동인: 8승 8패, 컴퓨터 : 8승 8패\n",
            "홍동인: 8승 9패, 컴퓨터 : 9승 8패\n",
            "비겼다\n",
            "홍동인: 8승 9패, 컴퓨터 : 9승 8패\n",
            "홍동인: 8승 10패, 컴퓨터 : 10승 8패\n",
            "홍동인: 9승 10패, 컴퓨터 : 10승 9패\n",
            "홍동인: 9승 11패, 컴퓨터 : 11승 9패\n",
            "홍동인: 10승 11패, 컴퓨터 : 11승 10패\n",
            "홍동인: 10승 12패, 컴퓨터 : 12승 10패\n",
            "홍동인: 11승 12패, 컴퓨터 : 12승 11패\n",
            "홍동인: 11승 13패, 컴퓨터 : 13승 11패\n",
            "비겼다\n",
            "홍동인: 11승 13패, 컴퓨터 : 13승 11패\n",
            "비겼다\n",
            "홍동인: 11승 13패, 컴퓨터 : 13승 11패\n",
            "홍동인: 11승 14패, 컴퓨터 : 14승 11패\n",
            "비겼다\n",
            "홍동인: 11승 14패, 컴퓨터 : 14승 11패\n",
            "비겼다\n",
            "홍동인: 11승 14패, 컴퓨터 : 14승 11패\n",
            "홍동인: 12승 14패, 컴퓨터 : 14승 12패\n",
            "홍동인: 12승 15패, 컴퓨터 : 15승 12패\n"
          ]
        },
        {
          "output_type": "error",
          "ename": "KeyboardInterrupt",
          "evalue": "ignored",
          "traceback": [
            "\u001b[0;31m---------------------------------------------------------------------------\u001b[0m",
            "\u001b[0;31mKeyboardInterrupt\u001b[0m                         Traceback (most recent call last)",
            "\u001b[0;32m<ipython-input-4-bcaf8e258b65>\u001b[0m in \u001b[0;36m<module>\u001b[0;34m()\u001b[0m\n\u001b[1;32m     14\u001b[0m        \u001b[0mprint\u001b[0m\u001b[0;34m(\u001b[0m\u001b[0;34m'비겼다'\u001b[0m\u001b[0;34m)\u001b[0m\u001b[0;34m\u001b[0m\u001b[0;34m\u001b[0m\u001b[0m\n\u001b[1;32m     15\u001b[0m    \u001b[0mprint\u001b[0m\u001b[0;34m(\u001b[0m\u001b[0;34m'홍동인: {0}승 {1}패, 컴퓨터 : {1}승 {0}패'\u001b[0m\u001b[0;34m.\u001b[0m\u001b[0mformat\u001b[0m\u001b[0;34m(\u001b[0m\u001b[0mmywin\u001b[0m\u001b[0;34m,\u001b[0m \u001b[0mcomwin\u001b[0m\u001b[0;34m)\u001b[0m\u001b[0;34m)\u001b[0m\u001b[0;34m\u001b[0m\u001b[0;34m\u001b[0m\u001b[0m\n\u001b[0;32m---> 16\u001b[0;31m    \u001b[0mtime\u001b[0m\u001b[0;34m.\u001b[0m\u001b[0msleep\u001b[0m\u001b[0;34m(\u001b[0m\u001b[0;36m0.1\u001b[0m\u001b[0;34m)\u001b[0m\u001b[0;34m\u001b[0m\u001b[0;34m\u001b[0m\u001b[0m\n\u001b[0m",
            "\u001b[0;31mKeyboardInterrupt\u001b[0m: "
          ]
        }
      ]
    },
    {
      "cell_type": "code",
      "metadata": {
        "colab": {
          "base_uri": "https://localhost:8080/"
        },
        "id": "WzlkK45WVy0R",
        "outputId": "24f23085-2399-4c63-c0ef-e7ae22f50ddc"
      },
      "source": [
        "import random\n",
        "\n",
        "print('가위 바위 보 게임')\n",
        "\n",
        "computer = random.choice(['가위', '바위', '보'])\n",
        "player = input('가위 바위 보 중 하나를 입력하세요: ')\n",
        "\n",
        "if computer == '가위':\n",
        "    print('컴퓨터는 가위를 냈습니다.')\n",
        "    if player == '가위':\n",
        "        print('당신은 가위를 냈습니다.')\n",
        "        print('무승부')\n",
        "    elif player == '바위':\n",
        "        print('당신은 바위를 냈습니다.')\n",
        "        print('니 승리')   \n",
        "    elif player == '보':\n",
        "        print('당신은 보를 냈습니다.')\n",
        "        print('컴퓨터 승리')\n",
        "elif computer == '바위':\n",
        "    print('컴퓨터는 바위를 냈습니다.')\n",
        "    if player == '가위':\n",
        "        print('당신은 가위를 냈습니다.')\n",
        "        print('컴퓨터 승리')\n",
        "    elif player == '바위':\n",
        "        print('니는 바위를 냈습니다.')\n",
        "        print('무승부')\n",
        "    elif player == '보':\n",
        "        print('당신은 보를 냈습니다.')\n",
        "        print('당신 승리')\n",
        "elif computer == '보':\n",
        "    print('컴퓨터는 보를 냈습니다.')\n",
        "    if player == '가위':\n",
        "        print('당신은 가위를 냈습니다.')\n",
        "        print('당신 승리')\n",
        "    elif player == '바위':\n",
        "        print('당신은 바위를 냈습니다.')\n",
        "        print('컴퓨터 승리') \n",
        "    elif player == '보':\n",
        "        print('당신은 보를 냈습니다.')\n",
        "        print('무승부')"
      ],
      "execution_count": null,
      "outputs": [
        {
          "output_type": "stream",
          "name": "stdout",
          "text": [
            "가위 바위 보 게임\n",
            "가위 바위 보 중 하나를 입력하세요: 가위\n",
            "컴퓨터는 보를 냈습니다.\n",
            "당신은 가위를 냈습니다.\n",
            "당신 승리\n"
          ]
        }
      ]
    },
    {
      "cell_type": "code",
      "metadata": {
        "id": "mPUUnVq-anEM"
      },
      "source": [
        ""
      ],
      "execution_count": null,
      "outputs": []
    }
  ]
}