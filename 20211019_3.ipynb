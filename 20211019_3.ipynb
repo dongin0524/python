{
  "nbformat": 4,
  "nbformat_minor": 0,
  "metadata": {
    "colab": {
      "name": "20211019-3.ipynb",
      "provenance": [],
      "authorship_tag": "ABX9TyNP3VWhDzpMdUgHwdiTo1RQ",
      "include_colab_link": true
    },
    "kernelspec": {
      "name": "python3",
      "display_name": "Python 3"
    },
    "language_info": {
      "name": "python"
    }
  },
  "cells": [
    {
      "cell_type": "markdown",
      "metadata": {
        "id": "view-in-github",
        "colab_type": "text"
      },
      "source": [
        "<a href=\"https://colab.research.google.com/github/dongin0524/python/blob/main/20211019_3.ipynb\" target=\"_parent\"><img src=\"https://colab.research.google.com/assets/colab-badge.svg\" alt=\"Open In Colab\"/></a>"
      ]
    },
    {
      "cell_type": "code",
      "metadata": {
        "id": "ilzsrM-NGdup"
      },
      "source": [
        "def solution(height, weight):\n",
        "  height = height/100\n",
        "  height = height*height\n",
        "  BMI = weight/height\n",
        "  if 17.8>BMI:\n",
        "    return '저체중'\n",
        "  elif 25.08>BMI:\n",
        "    return '정상'\n",
        "  elif 27.89>BMI:\n",
        "    return '과체중'\n",
        "  else:\n",
        "    return '비만'"
      ],
      "execution_count": null,
      "outputs": []
    },
    {
      "cell_type": "code",
      "metadata": {
        "colab": {
          "base_uri": "https://localhost:8080/"
        },
        "id": "BPMJ060PJB78",
        "outputId": "f8a15e78-0d49-4d03-f1d4-a54967106d52"
      },
      "source": [
        "print(solution(178,80))"
      ],
      "execution_count": null,
      "outputs": [
        {
          "output_type": "stream",
          "name": "stdout",
          "text": [
            "과체중\n"
          ]
        }
      ]
    },
    {
      "cell_type": "code",
      "metadata": {
        "colab": {
          "base_uri": "https://localhost:8080/"
        },
        "id": "s5_ye0NCGtzZ",
        "outputId": "daaadf89-e721-4f87-af28-3331bcaa0b9f"
      },
      "source": [
        "name=input(\"이름을 입력하세요: \")\n",
        "\n",
        "height_CM=int(input(\"키(cm)를 입력하세요: \"))\n",
        "height_M=height_CM/100\n",
        "\n",
        "weight=int(input(\"몸무게(kg)을 입력하세요: \"))\n",
        "\n",
        "BMI=weight/(height_M**2)\n",
        "\n",
        "print(\"%s님의 BMI는 %.1lf 입니다.\" % (name, BMI))"
      ],
      "execution_count": null,
      "outputs": [
        {
          "output_type": "stream",
          "name": "stdout",
          "text": [
            "이름을 입력하세요: 홍동인\n",
            "키(cm)를 입력하세요: 178\n",
            "몸무게(kg)을 입력하세요: 90\n",
            "홍동인님의 BMI는 28.4 입니다.\n"
          ]
        }
      ]
    },
    {
      "cell_type": "code",
      "metadata": {
        "id": "PK9sEqPnGuNy"
      },
      "source": [
        ""
      ],
      "execution_count": null,
      "outputs": []
    }
  ]
}