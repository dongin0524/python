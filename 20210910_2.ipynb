{
  "nbformat": 4,
  "nbformat_minor": 0,
  "metadata": {
    "colab": {
      "name": "20210910-2.ipynb",
      "provenance": [],
      "authorship_tag": "ABX9TyMIT+/NKmNxhWuQ4g0Xbfk+",
      "include_colab_link": true
    },
    "kernelspec": {
      "name": "python3",
      "display_name": "Python 3"
    },
    "language_info": {
      "name": "python"
    }
  },
  "cells": [
    {
      "cell_type": "markdown",
      "metadata": {
        "id": "view-in-github",
        "colab_type": "text"
      },
      "source": [
        "<a href=\"https://colab.research.google.com/github/dongin0524/python/blob/main/20210910_2.ipynb\" target=\"_parent\"><img src=\"https://colab.research.google.com/assets/colab-badge.svg\" alt=\"Open In Colab\"/></a>"
      ]
    },
    {
      "cell_type": "code",
      "metadata": {
        "colab": {
          "base_uri": "https://localhost:8080/"
        },
        "id": "3r59adtLIU-G",
        "outputId": "653bac50-125f-4ca4-fefa-43f6813bc19f"
      },
      "source": [
        "a = [2,4,6,8,11]\n",
        "\n",
        "print(a)\n",
        "print(a[2])"
      ],
      "execution_count": null,
      "outputs": [
        {
          "output_type": "stream",
          "name": "stdout",
          "text": [
            "[2, 4, 6, 8, 11]\n",
            "6\n"
          ]
        }
      ]
    },
    {
      "cell_type": "code",
      "metadata": {
        "colab": {
          "base_uri": "https://localhost:8080/"
        },
        "id": "4_7RFPyUJmcr",
        "outputId": "938af4f8-fa06-4c01-f460-2ce819d17d59"
      },
      "source": [
        "print(a[2:4])\n",
        "print(a[2:])\n",
        "print(a[:4])"
      ],
      "execution_count": null,
      "outputs": [
        {
          "output_type": "stream",
          "name": "stdout",
          "text": [
            "[6, 8]\n",
            "[6, 8, 11]\n",
            "[2, 4, 6, 8]\n"
          ]
        }
      ]
    },
    {
      "cell_type": "code",
      "metadata": {
        "id": "c4mL3K4TKOcB"
      },
      "source": [
        "b = input(\"입력하세영:\")\n",
        "print(b)"
      ],
      "execution_count": null,
      "outputs": []
    },
    {
      "cell_type": "code",
      "metadata": {
        "id": "sb3SVCBWKk6G"
      },
      "source": [
        "b = input(\"숫자를 입력하세영:\")\n",
        "#print(type(b))\n",
        "print(int(b)+1)\n"
      ],
      "execution_count": null,
      "outputs": []
    },
    {
      "cell_type": "code",
      "metadata": {
        "colab": {
          "base_uri": "https://localhost:8080/"
        },
        "id": "m7gmXK2QMKVf",
        "outputId": "dff5e89b-7e26-4c04-d934-fb484766e28d"
      },
      "source": [
        "c = input('오빠 숫자입력해용')\n",
        "\n",
        "if int(c)%2 == 0:\n",
        "  print(\"오빠 짝수에영\")\n",
        "else:\n",
        "  print('오빠 홀수야')"
      ],
      "execution_count": null,
      "outputs": [
        {
          "output_type": "stream",
          "name": "stdout",
          "text": [
            "오빠 숫자입력해용1\n",
            "오빠 홀수야\n"
          ]
        }
      ]
    },
    {
      "cell_type": "code",
      "metadata": {
        "colab": {
          "base_uri": "https://localhost:8080/"
        },
        "id": "BJ51dY_YNHvP",
        "outputId": "ded3f090-f7b1-4ba1-b8c5-d393a2bc19aa"
      },
      "source": [
        "d = input('오빠 숫자 입력해')\n",
        "\n",
        "if int(d)>0:\n",
        "  print('오빠 양수에영')\n",
        "elif int(d)<0:\n",
        "  print('오빠 음수에영')\n",
        "elif int(d)==0:\n",
        "  print('오빠 영이에용')"
      ],
      "execution_count": null,
      "outputs": [
        {
          "output_type": "stream",
          "name": "stdout",
          "text": [
            "오빠 숫자 입력해1\n",
            "오빠 양수에영\n"
          ]
        }
      ]
    },
    {
      "cell_type": "code",
      "metadata": {
        "colab": {
          "base_uri": "https://localhost:8080/"
        },
        "id": "RMWj3JfjOq4_",
        "outputId": "a2eb560a-8b0c-4c82-e735-3c10a24753fb"
      },
      "source": [
        "x,y = 1,2\n",
        "print(x)\n",
        "print(y)"
      ],
      "execution_count": null,
      "outputs": [
        {
          "output_type": "stream",
          "name": "stdout",
          "text": [
            "1\n",
            "2\n"
          ]
        }
      ]
    },
    {
      "cell_type": "code",
      "metadata": {
        "colab": {
          "base_uri": "https://localhost:8080/"
        },
        "id": "p-8KIhh_PPWX",
        "outputId": "2f8246f9-296c-4885-e7c7-f7f482679ea6"
      },
      "source": [
        "a, b = input('숫자 두 개를 입력하세요: ').split()   \n",
        "a = int(a)   \n",
        "b = int(b)    \n",
        " \n",
        "print(a + b)"
      ],
      "execution_count": null,
      "outputs": [
        {
          "output_type": "stream",
          "name": "stdout",
          "text": [
            "숫자 두 개를 입력하세요: 40 50\n",
            "90\n"
          ]
        }
      ]
    }
  ]
}