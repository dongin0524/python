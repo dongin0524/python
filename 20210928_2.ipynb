{
  "nbformat": 4,
  "nbformat_minor": 0,
  "metadata": {
    "colab": {
      "name": "20210928-2.ipynb",
      "provenance": [],
      "authorship_tag": "ABX9TyPFUIJpNK+YaSD0/ocC35J2",
      "include_colab_link": true
    },
    "kernelspec": {
      "name": "python3",
      "display_name": "Python 3"
    },
    "language_info": {
      "name": "python"
    }
  },
  "cells": [
    {
      "cell_type": "markdown",
      "metadata": {
        "id": "view-in-github",
        "colab_type": "text"
      },
      "source": [
        "<a href=\"https://colab.research.google.com/github/dongin0524/python/blob/main/20210928_2.ipynb\" target=\"_parent\"><img src=\"https://colab.research.google.com/assets/colab-badge.svg\" alt=\"Open In Colab\"/></a>"
      ]
    },
    {
      "cell_type": "code",
      "metadata": {
        "colab": {
          "base_uri": "https://localhost:8080/"
        },
        "id": "YubufwXDF3Ld",
        "outputId": "c8877df0-8ebf-4ba5-b73a-ccc07c1316e7"
      },
      "source": [
        "\n",
        "for i in range(1, 101):\n",
        "    count = 0\n",
        "    for j in range(1,i+1):\n",
        "        if i%j == 0:\n",
        "          count = count + 1\n",
        "    print('{0}의 약수의 개수는 {1}입니다.'.format(i, count))"
      ],
      "execution_count": null,
      "outputs": [
        {
          "output_type": "stream",
          "name": "stdout",
          "text": [
            "1의 약수의 개수는 1입니다.\n",
            "2의 약수의 개수는 2입니다.\n",
            "3의 약수의 개수는 2입니다.\n",
            "4의 약수의 개수는 3입니다.\n",
            "5의 약수의 개수는 2입니다.\n",
            "6의 약수의 개수는 4입니다.\n",
            "7의 약수의 개수는 2입니다.\n",
            "8의 약수의 개수는 4입니다.\n",
            "9의 약수의 개수는 3입니다.\n",
            "10의 약수의 개수는 4입니다.\n",
            "11의 약수의 개수는 2입니다.\n",
            "12의 약수의 개수는 6입니다.\n",
            "13의 약수의 개수는 2입니다.\n",
            "14의 약수의 개수는 4입니다.\n",
            "15의 약수의 개수는 4입니다.\n",
            "16의 약수의 개수는 5입니다.\n",
            "17의 약수의 개수는 2입니다.\n",
            "18의 약수의 개수는 6입니다.\n",
            "19의 약수의 개수는 2입니다.\n",
            "20의 약수의 개수는 6입니다.\n",
            "21의 약수의 개수는 4입니다.\n",
            "22의 약수의 개수는 4입니다.\n",
            "23의 약수의 개수는 2입니다.\n",
            "24의 약수의 개수는 8입니다.\n",
            "25의 약수의 개수는 3입니다.\n",
            "26의 약수의 개수는 4입니다.\n",
            "27의 약수의 개수는 4입니다.\n",
            "28의 약수의 개수는 6입니다.\n",
            "29의 약수의 개수는 2입니다.\n",
            "30의 약수의 개수는 8입니다.\n",
            "31의 약수의 개수는 2입니다.\n",
            "32의 약수의 개수는 6입니다.\n",
            "33의 약수의 개수는 4입니다.\n",
            "34의 약수의 개수는 4입니다.\n",
            "35의 약수의 개수는 4입니다.\n",
            "36의 약수의 개수는 9입니다.\n",
            "37의 약수의 개수는 2입니다.\n",
            "38의 약수의 개수는 4입니다.\n",
            "39의 약수의 개수는 4입니다.\n",
            "40의 약수의 개수는 8입니다.\n",
            "41의 약수의 개수는 2입니다.\n",
            "42의 약수의 개수는 8입니다.\n",
            "43의 약수의 개수는 2입니다.\n",
            "44의 약수의 개수는 6입니다.\n",
            "45의 약수의 개수는 6입니다.\n",
            "46의 약수의 개수는 4입니다.\n",
            "47의 약수의 개수는 2입니다.\n",
            "48의 약수의 개수는 10입니다.\n",
            "49의 약수의 개수는 3입니다.\n",
            "50의 약수의 개수는 6입니다.\n",
            "51의 약수의 개수는 4입니다.\n",
            "52의 약수의 개수는 6입니다.\n",
            "53의 약수의 개수는 2입니다.\n",
            "54의 약수의 개수는 8입니다.\n",
            "55의 약수의 개수는 4입니다.\n",
            "56의 약수의 개수는 8입니다.\n",
            "57의 약수의 개수는 4입니다.\n",
            "58의 약수의 개수는 4입니다.\n",
            "59의 약수의 개수는 2입니다.\n",
            "60의 약수의 개수는 12입니다.\n",
            "61의 약수의 개수는 2입니다.\n",
            "62의 약수의 개수는 4입니다.\n",
            "63의 약수의 개수는 6입니다.\n",
            "64의 약수의 개수는 7입니다.\n",
            "65의 약수의 개수는 4입니다.\n",
            "66의 약수의 개수는 8입니다.\n",
            "67의 약수의 개수는 2입니다.\n",
            "68의 약수의 개수는 6입니다.\n",
            "69의 약수의 개수는 4입니다.\n",
            "70의 약수의 개수는 8입니다.\n",
            "71의 약수의 개수는 2입니다.\n",
            "72의 약수의 개수는 12입니다.\n",
            "73의 약수의 개수는 2입니다.\n",
            "74의 약수의 개수는 4입니다.\n",
            "75의 약수의 개수는 6입니다.\n",
            "76의 약수의 개수는 6입니다.\n",
            "77의 약수의 개수는 4입니다.\n",
            "78의 약수의 개수는 8입니다.\n",
            "79의 약수의 개수는 2입니다.\n",
            "80의 약수의 개수는 10입니다.\n",
            "81의 약수의 개수는 5입니다.\n",
            "82의 약수의 개수는 4입니다.\n",
            "83의 약수의 개수는 2입니다.\n",
            "84의 약수의 개수는 12입니다.\n",
            "85의 약수의 개수는 4입니다.\n",
            "86의 약수의 개수는 4입니다.\n",
            "87의 약수의 개수는 4입니다.\n",
            "88의 약수의 개수는 8입니다.\n",
            "89의 약수의 개수는 2입니다.\n",
            "90의 약수의 개수는 12입니다.\n",
            "91의 약수의 개수는 4입니다.\n",
            "92의 약수의 개수는 6입니다.\n",
            "93의 약수의 개수는 4입니다.\n",
            "94의 약수의 개수는 4입니다.\n",
            "95의 약수의 개수는 4입니다.\n",
            "96의 약수의 개수는 12입니다.\n",
            "97의 약수의 개수는 2입니다.\n",
            "98의 약수의 개수는 6입니다.\n",
            "99의 약수의 개수는 6입니다.\n",
            "100의 약수의 개수는 9입니다.\n"
          ]
        }
      ]
    },
    {
      "cell_type": "code",
      "metadata": {
        "colab": {
          "base_uri": "https://localhost:8080/"
        },
        "id": "TNXqU0dxG7xQ",
        "outputId": "9cc8300c-66ce-4ad7-fc17-b4ea7e54c38e"
      },
      "source": [
        "primecount = 0\n",
        "\n",
        "for i in range(2, 101):\n",
        "    count = 0\n",
        "    for j in range(1,i+1):\n",
        "        if i%j == 0:\n",
        "            count = count + 1\n",
        "    if count==2:\n",
        "        primecount = primecount + 1\n",
        "\n",
        "print(primecount)"
      ],
      "execution_count": null,
      "outputs": [
        {
          "output_type": "stream",
          "name": "stdout",
          "text": [
            "25\n"
          ]
        }
      ]
    },
    {
      "cell_type": "code",
      "metadata": {
        "colab": {
          "base_uri": "https://localhost:8080/"
        },
        "id": "M4WIaNI-IYGv",
        "outputId": "e78b03fd-c231-4166-da4c-60c771b6c213"
      },
      "source": [
        "print('25개입니다')"
      ],
      "execution_count": null,
      "outputs": [
        {
          "output_type": "stream",
          "name": "stdout",
          "text": [
            "25개입니다\n"
          ]
        }
      ]
    },
    {
      "cell_type": "code",
      "metadata": {
        "id": "JvvHZPmEJuN9"
      },
      "source": [
        ""
      ],
      "execution_count": null,
      "outputs": []
    }
  ]
}