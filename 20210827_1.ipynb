{
  "nbformat": 4,
  "nbformat_minor": 0,
  "metadata": {
    "colab": {
      "name": "20210827-1.ipynb",
      "provenance": [],
      "collapsed_sections": [],
      "authorship_tag": "ABX9TyPzXe+YZ1SJ6pI9fIQlBNr3",
      "include_colab_link": true
    },
    "kernelspec": {
      "name": "python3",
      "display_name": "Python 3"
    },
    "language_info": {
      "name": "python"
    }
  },
  "cells": [
    {
      "cell_type": "markdown",
      "metadata": {
        "id": "view-in-github",
        "colab_type": "text"
      },
      "source": [
        "<a href=\"https://colab.research.google.com/github/dongin0524/python/blob/main/20210827_1.ipynb\" target=\"_parent\"><img src=\"https://colab.research.google.com/assets/colab-badge.svg\" alt=\"Open In Colab\"/></a>"
      ]
    },
    {
      "cell_type": "code",
      "metadata": {
        "colab": {
          "base_uri": "https://localhost:8080/"
        },
        "id": "T6TwCoyU4XUJ",
        "outputId": "db33980e-a76a-4e63-e95b-d0173fcc91ba"
      },
      "source": [
        "print('hi')"
      ],
      "execution_count": null,
      "outputs": [
        {
          "output_type": "stream",
          "text": [
            "hi\n"
          ],
          "name": "stdout"
        }
      ]
    },
    {
      "cell_type": "code",
      "metadata": {
        "colab": {
          "base_uri": "https://localhost:8080/"
        },
        "id": "k14HpmVb5Vb6",
        "outputId": "b15ddea7-1324-453c-ce8a-998219898677"
      },
      "source": [
        "print('1')\n",
        "print('2')\n",
        "print('3')\n",
        "print('4')\n",
        "print('5')\n"
      ],
      "execution_count": null,
      "outputs": [
        {
          "output_type": "stream",
          "text": [
            "1\n",
            "2\n",
            "3\n",
            "4\n",
            "5\n"
          ],
          "name": "stdout"
        }
      ]
    },
    {
      "cell_type": "code",
      "metadata": {
        "colab": {
          "base_uri": "https://localhost:8080/"
        },
        "id": "H2HgDknS6Jaa",
        "outputId": "5e2cfc3a-3b8c-4562-a474-8408eb697de0"
      },
      "source": [
        "print('no sana no life')\n",
        "print('no sana no life')\n",
        "print('no sana no life')\n",
        "print('no sana no life')\n",
        "print('no sana no life')\n"
      ],
      "execution_count": null,
      "outputs": [
        {
          "output_type": "stream",
          "text": [
            "no sana no life\n",
            "no sana no life\n",
            "no sana no life\n",
            "no sana no life\n",
            "no sana no life\n"
          ],
          "name": "stdout"
        }
      ]
    },
    {
      "cell_type": "code",
      "metadata": {
        "colab": {
          "base_uri": "https://localhost:8080/"
        },
        "id": "mOyx1kve6Kh0",
        "outputId": "a781c9bb-64f4-4edc-e5e2-8688e7626441"
      },
      "source": [
        "for i in range(10):\n",
        "  print('no sana no life')"
      ],
      "execution_count": null,
      "outputs": [
        {
          "output_type": "stream",
          "text": [
            "no sana no life\n",
            "no sana no life\n",
            "no sana no life\n",
            "no sana no life\n",
            "no sana no life\n",
            "no sana no life\n",
            "no sana no life\n",
            "no sana no life\n",
            "no sana no life\n",
            "no sana no life\n"
          ],
          "name": "stdout"
        }
      ]
    },
    {
      "cell_type": "code",
      "metadata": {
        "colab": {
          "base_uri": "https://localhost:8080/"
        },
        "id": "oMCDGp4I7sXs",
        "outputId": "84dc7ff5-5ab8-40cd-c74d-de951b4106a1"
      },
      "source": [
        "for _ in range(5):\n",
        "  print('nayeon su sexy')"
      ],
      "execution_count": null,
      "outputs": [
        {
          "output_type": "stream",
          "text": [
            "nayeon su sexy\n",
            "nayeon su sexy\n",
            "nayeon su sexy\n",
            "nayeon su sexy\n",
            "nayeon su sexy\n"
          ],
          "name": "stdout"
        }
      ]
    },
    {
      "cell_type": "code",
      "metadata": {
        "colab": {
          "base_uri": "https://localhost:8080/"
        },
        "id": "axChu5kx8lOk",
        "outputId": "cb5f7638-be09-4bda-eb92-ae70015ca589"
      },
      "source": [
        "for _ in range(5):\n",
        "  print ('aaa')\n",
        "  print ('bbb')"
      ],
      "execution_count": null,
      "outputs": [
        {
          "output_type": "stream",
          "text": [
            "aaa\n",
            "bbb\n",
            "aaa\n",
            "bbb\n",
            "aaa\n",
            "bbb\n",
            "aaa\n",
            "bbb\n",
            "aaa\n",
            "bbb\n"
          ],
          "name": "stdout"
        }
      ]
    },
    {
      "cell_type": "code",
      "metadata": {
        "colab": {
          "base_uri": "https://localhost:8080/"
        },
        "id": "XlrDgV-q9I_7",
        "outputId": "76075855-2ff6-4857-f6af-1b5350c63cbc"
      },
      "source": [
        "for i in range(10):\n",
        "  print(i, end='@')"
      ],
      "execution_count": null,
      "outputs": [
        {
          "output_type": "stream",
          "text": [
            "0@1@2@3@4@5@6@7@8@9@"
          ],
          "name": "stdout"
        }
      ]
    },
    {
      "cell_type": "code",
      "metadata": {
        "colab": {
          "base_uri": "https://localhost:8080/"
        },
        "id": "rREM6aYr90_C",
        "outputId": "22f19cac-5f1d-4cd9-e295-eabf3ceba07c"
      },
      "source": [
        "for i in range(0,10):\n",
        "  print(i, end=' ')"
      ],
      "execution_count": null,
      "outputs": [
        {
          "output_type": "stream",
          "text": [
            "0 1 2 3 4 5 6 7 8 9 "
          ],
          "name": "stdout"
        }
      ]
    },
    {
      "cell_type": "code",
      "metadata": {
        "colab": {
          "base_uri": "https://localhost:8080/"
        },
        "id": "mJ5tp1QT-OFK",
        "outputId": "03d9a1c4-2b06-4a6e-bbec-dd0338c05463"
      },
      "source": [
        "for i in range(103,108):\n",
        "  print(i, end='&')"
      ],
      "execution_count": null,
      "outputs": [
        {
          "output_type": "stream",
          "text": [
            "103&104&105&106&107&"
          ],
          "name": "stdout"
        }
      ]
    },
    {
      "cell_type": "code",
      "metadata": {
        "colab": {
          "base_uri": "https://localhost:8080/"
        },
        "id": "cLyAK8mYFCfE",
        "outputId": "bbf86ea3-2df2-45b1-8153-a26571907b0a"
      },
      "source": [
        "for i in range(0,20,2):\n",
        "  print(i, end=' ')"
      ],
      "execution_count": null,
      "outputs": [
        {
          "output_type": "stream",
          "text": [
            "0 2 4 6 8 10 12 14 16 18 "
          ],
          "name": "stdout"
        }
      ]
    },
    {
      "cell_type": "code",
      "metadata": {
        "colab": {
          "base_uri": "https://localhost:8080/"
        },
        "id": "ByQUczsnFekj",
        "outputId": "4e7e9d73-0169-4da5-9298-7d3a05edcf61"
      },
      "source": [
        "for i in range(48,104,3):\n",
        "  print(i, end=' ')"
      ],
      "execution_count": null,
      "outputs": [
        {
          "output_type": "stream",
          "text": [
            "48 51 54 57 60 63 66 69 72 75 78 81 84 87 90 93 96 99 102 "
          ],
          "name": "stdout"
        }
      ]
    },
    {
      "cell_type": "code",
      "metadata": {
        "colab": {
          "base_uri": "https://localhost:8080/"
        },
        "id": "iElvP0tUF1dC",
        "outputId": "40ad2428-f134-45dc-e7d5-db8fcb728b04"
      },
      "source": [
        "for i in range(50,101):\n",
        "  print(i, end=' ')"
      ],
      "execution_count": null,
      "outputs": [
        {
          "output_type": "stream",
          "text": [
            "50 51 52 53 54 55 56 57 58 59 60 61 62 63 64 65 66 67 68 69 70 71 72 73 74 75 76 77 78 79 80 81 82 83 84 85 86 87 88 89 90 91 92 93 94 95 96 97 98 99 100 "
          ],
          "name": "stdout"
        }
      ]
    },
    {
      "cell_type": "code",
      "metadata": {
        "colab": {
          "base_uri": "https://localhost:8080/"
        },
        "id": "FNh0xSLZIFHD",
        "outputId": "d316ad2f-0b79-42a7-eb12-29e327b06e97"
      },
      "source": [
        "a=101\n",
        "b=72\n",
        "print(a%b)"
      ],
      "execution_count": null,
      "outputs": [
        {
          "output_type": "stream",
          "text": [
            "29\n"
          ],
          "name": "stdout"
        }
      ]
    },
    {
      "cell_type": "code",
      "metadata": {
        "colab": {
          "base_uri": "https://localhost:8080/"
        },
        "id": "64eSI2hLIKeS",
        "outputId": "8209b9db-8aa5-4f57-b2e3-8f541f5deb98"
      },
      "source": [
        "a=31\n",
        "\n",
        "if a%2==0:\n",
        "  print('짝수')\n",
        "elif a%2==1:\n",
        " print('홀수')"
      ],
      "execution_count": null,
      "outputs": [
        {
          "output_type": "stream",
          "text": [
            "홀수\n"
          ],
          "name": "stdout"
        }
      ]
    },
    {
      "cell_type": "code",
      "metadata": {
        "colab": {
          "base_uri": "https://localhost:8080/"
        },
        "id": "pnPBZ6bhJVWG",
        "outputId": "351bb7fb-894b-4d85-b51d-fd4f5d0f6968"
      },
      "source": [
        "print (1+1)\n",
        "print (1==1)\n",
        "print (1==2)"
      ],
      "execution_count": null,
      "outputs": [
        {
          "output_type": "stream",
          "text": [
            "2\n",
            "True\n",
            "False\n"
          ],
          "name": "stdout"
        }
      ]
    },
    {
      "cell_type": "code",
      "metadata": {
        "colab": {
          "base_uri": "https://localhost:8080/"
        },
        "id": "gn5NCBYJJYTk",
        "outputId": "4eff82fa-3dfe-4910-c26a-fa3351f9c835"
      },
      "source": [
        "for i in range(1000,2001):\n",
        "  if i%11==0:\n",
        "   print(i, end=' ')"
      ],
      "execution_count": null,
      "outputs": [
        {
          "output_type": "stream",
          "text": [
            "1001 1012 1023 1034 1045 1056 1067 1078 1089 1100 1111 1122 1133 1144 1155 1166 1177 1188 1199 1210 1221 1232 1243 1254 1265 1276 1287 1298 1309 1320 1331 1342 1353 1364 1375 1386 1397 1408 1419 1430 1441 1452 1463 1474 1485 1496 1507 1518 1529 1540 1551 1562 1573 1584 1595 1606 1617 1628 1639 1650 1661 1672 1683 1694 1705 1716 1727 1738 1749 1760 1771 1782 1793 1804 1815 1826 1837 1848 1859 1870 1881 1892 1903 1914 1925 1936 1947 1958 1969 1980 1991 "
          ],
          "name": "stdout"
        }
      ]
    },
    {
      "cell_type": "code",
      "metadata": {
        "colab": {
          "base_uri": "https://localhost:8080/",
          "height": 136
        },
        "id": "xSnMFmc-QAXW",
        "outputId": "a31346d6-f442-4afc-ee96-89c5371169e2"
      },
      "source": [
        "for i in range(1,101):\n",
        "  if i%3==0:\n",
        "  if i%6==0:\n",
        "  if i%9==0:\n",
        "    print(i, end=' ')"
      ],
      "execution_count": null,
      "outputs": [
        {
          "output_type": "error",
          "ename": "IndentationError",
          "evalue": "ignored",
          "traceback": [
            "\u001b[0;36m  File \u001b[0;32m\"<ipython-input-4-802f4df2e56a>\"\u001b[0;36m, line \u001b[0;32m3\u001b[0m\n\u001b[0;31m    if i%6==0:\u001b[0m\n\u001b[0m     ^\u001b[0m\n\u001b[0;31mIndentationError\u001b[0m\u001b[0;31m:\u001b[0m expected an indented block\n"
          ]
        }
      ]
    },
    {
      "cell_type": "code",
      "metadata": {
        "colab": {
          "base_uri": "https://localhost:8080/"
        },
        "id": "Tp3obwyoSfIq",
        "outputId": "82338be5-55d1-4b94-8e25-731f7d843dc7"
      },
      "source": [
        "for i in range(1,100):\n",
        "  str_i = str(i)\n",
        "  count = 0\n",
        "  for j in str_i:\n",
        "    if (j == '3') or (j == 6) or (j == '9'):\n",
        "     count += 1\n",
        "  if count == 0:\n",
        "    print(i, end=\" \")\n",
        "  else:\n",
        "    print(count * '*', end=\" \")"
      ],
      "execution_count": null,
      "outputs": [
        {
          "output_type": "stream",
          "name": "stdout",
          "text": [
            "1 2 * 4 5 6 7 8 * 10 11 12 * 14 15 16 17 18 * 20 21 22 * 24 25 26 27 28 * * * * ** * * * * * ** 40 41 42 * 44 45 46 47 48 * 50 51 52 * 54 55 56 57 58 * 60 61 62 * 64 65 66 67 68 * 70 71 72 * 74 75 76 77 78 * 80 81 82 * 84 85 86 87 88 * * * * ** * * * * * ** "
          ]
        }
      ]
    },
    {
      "cell_type": "code",
      "metadata": {
        "colab": {
          "base_uri": "https://localhost:8080/"
        },
        "id": "yjYJzE9FXuC5",
        "outputId": "e410b080-8c75-4e18-e4c3-7edfdbe4ae39"
      },
      "source": [
        "+-\n",
        "for i in range(1, 100):\n",
        "    if(i!=1):\n",
        "        print(\" \", end=\"\")\n",
        "    Two = (lambda x : x%3==0 or x%6==0)\n",
        "    y = [int(j) for j in str(i)]\n",
        "    y = list(filter((lambda x:x%3!=0 or x==0), y))\n",
        "    \n",
        "    if((lambda x:Two(x) or len(y)!=len(str(x)))(i)):\n",
        "        print('*', end=\"\")\n",
        "    else:\n",
        "        print(i, end=\"\")"
      ],
      "execution_count": null,
      "outputs": [
        {
          "output_type": "stream",
          "text": [
            "1 2 * 4 5 * 7 8 * 10 11 * * 14 * * 17 * * 20 * 22 * * 25 * * 28 * * * * * * * * * * * 40 41 * * 44 * * 47 * * 50 * 52 * * 55 * * 58 * * * * * * * * * * * 70 71 * * 74 * * 77 * * 80 * 82 * * 85 * * 88 * * * * * * * * * * *"
          ],
          "name": "stdout"
        }
      ]
    }
  ]
}