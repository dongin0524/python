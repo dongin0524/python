{
  "nbformat": 4,
  "nbformat_minor": 0,
  "metadata": {
    "colab": {
      "name": "_08 객체와 클래스.ipynb",
      "provenance": [],
      "collapsed_sections": [],
      "include_colab_link": true
    },
    "kernelspec": {
      "name": "python3",
      "display_name": "Python 3"
    }
  },
  "cells": [
    {
      "cell_type": "markdown",
      "metadata": {
        "id": "view-in-github",
        "colab_type": "text"
      },
      "source": [
        "<a href=\"https://colab.research.google.com/github/dongin0524/python/blob/main/_08_%EA%B0%9D%EC%B2%B4%EC%99%80_%ED%81%B4%EB%9E%98%EC%8A%A4.ipynb\" target=\"_parent\"><img src=\"https://colab.research.google.com/assets/colab-badge.svg\" alt=\"Open In Colab\"/></a>"
      ]
    },
    {
      "cell_type": "markdown",
      "metadata": {
        "id": "bg5ZXMV2sn1M"
      },
      "source": [
        "# 객체와 클래스"
      ]
    },
    {
      "cell_type": "markdown",
      "metadata": {
        "id": "Lj_iZPKnCRP0"
      },
      "source": [
        "\n",
        "\n",
        "---\n",
        "\n"
      ]
    },
    {
      "cell_type": "markdown",
      "metadata": {
        "id": "zXbENjlMCrkU"
      },
      "source": [
        "## 객체(Object)\n",
        "\n"
      ]
    },
    {
      "cell_type": "markdown",
      "metadata": {
        "id": "82FjlpCsXy6N"
      },
      "source": [
        "- 객체란 존재하는 모든 것들을 의미\n",
        "- 현실 세계는 객체로 이루어져 있고, 모든사건(event)들은 사물간의 상호작용을 통해 발생\n",
        "- 객체란 객체의 속성을 이루는 데이터 뿐만 아니라 그 데이터의 조작방법에 대한 내용도 포함 \n",
        "- 객체는 속성과 기능을 가지고 있는 것이 핵심 포인트"
      ]
    },
    {
      "cell_type": "markdown",
      "metadata": {
        "id": "m7ptHF84YJxG"
      },
      "source": [
        "- 객체의 구성\n",
        "    + Name(이름)\n",
        "    + Attributes(속성):변수,데이터\n",
        "    + Methods(기능): 함수"
      ]
    },
    {
      "cell_type": "markdown",
      "metadata": {
        "id": "41GeF0a5KMPU"
      },
      "source": [
        "### 객체 지향 프로그래밍(Object Oriented Programming)\n",
        "\n"
      ]
    },
    {
      "cell_type": "markdown",
      "metadata": {
        "id": "JjzFy5SHYjt6"
      },
      "source": [
        "* 객체 개념을 다루는 것이 객체 지향\n",
        "* 객체 지향 프로그래밍은 컴퓨터 프로그래밍\n",
        "기법중 하나(. vs 함수형 프로그래밍\n",
        "* 프로그램을 단순히 데이터와 처리 방법으로 나누는 것이 아니라, 프로그램을 수 많은 '객체' 라는 단위로 구분하고, 이 객체들이 상호작용하는 방식\n",
        "* 각각의 객체는 메시지를 주고 받고, 데이터를 처리"
      ]
    },
    {
      "cell_type": "markdown",
      "metadata": {
        "id": "qQc_0nwV1YyE"
      },
      "source": [
        "## 클래스(Class)\n",
        "\n",
        "- 객체의 구성요소를 담는 개념\n",
        "- 여러 개의 속성(Attribute)과 메서드(Method)를 포함하는 개념\n",
        "- 객체를 정의하는 틀 또는 설계도\n",
        "- 실제 생성된 객체는 인스턴스(instance)\n",
        "- 인스턴스는 메모리에 할당된 객체를 의미\n",
        "- 클래스 문법\n",
        "      class Name(object)\n",
        "         + class: 클래스 정의\n",
        "         + Name: 클래스명\n",
        "         + object: 상속받는 객체명"
      ]
    },
    {
      "cell_type": "markdown",
      "metadata": {
        "id": "u91KX7n6K1Qx"
      },
      "source": [
        "### Book 클래스 정의\n",
        "\n",
        "* 클래스 이름: Book\n",
        "* 속성\n",
        "  + 저자: author\n",
        "  + 책 이름: name\n",
        "  + 출판사: publisher\n",
        "  + 발행일: date\n",
        "\n"
      ]
    },
    {
      "cell_type": "code",
      "metadata": {
        "id": "VIauKM25w6Aw"
      },
      "source": [
        "class Book():\n",
        "  auther = \"\"\n",
        "  title = \"\"\n",
        "  publisher = \"\"\n",
        "  date = \"\""
      ],
      "execution_count": null,
      "outputs": []
    },
    {
      "cell_type": "code",
      "metadata": {
        "id": "oboUm_0ZmkwC"
      },
      "source": [
        "book = book() # (인스턴스) book 객체 생성: 메모리에 로드\n",
        "book.author = 'dongin'\n",
        "print(book.author)\n",
        "book.title = \"Python Programming\"\n",
        "print(book.title)"
      ],
      "execution_count": null,
      "outputs": []
    },
    {
      "cell_type": "markdown",
      "metadata": {
        "id": "b0ybpBx4B-NI"
      },
      "source": [
        "### Book 클래스 메소드 정의\n",
        "\n",
        "* 메소드\n",
        "  + 책 정보 출력: `print_info(self)`\n",
        "  + `self`가 있어야만 실제로 인스턴스가 사용할 수 있는 메소드로 선언\n",
        "  + `print_info(self)`에서 `self`는 실제적으로 `book` 인스턴스를 의미\n",
        "  + 메소드 안에서 속성 값을 사용하지 않을 경우에는 `self` 생략 가능"
      ]
    },
    {
      "cell_type": "code",
      "metadata": {
        "id": "bvq4rgKACKGh"
      },
      "source": [
        "class Book(object):\n",
        "  auther = \"\"\n",
        "  title = \"\"\n",
        "  publisher = \"\"\n",
        "  date = \"\"\n",
        "\n",
        "  def print_info(self):\n",
        "    print(f'Author: {self.author}')\n",
        "    print(f'Title: {self.title}')"
      ],
      "execution_count": null,
      "outputs": []
    },
    {
      "cell_type": "code",
      "metadata": {
        "id": "QLYRU__lmoQx",
        "colab": {
          "base_uri": "https://localhost:8080/",
          "height": 223
        },
        "outputId": "b6355635-8f91-4b2b-a957-a9714237489d"
      },
      "source": [
        "book = book() \n",
        "book.author = 'dongin'\n",
        "book.title = \"Python Programming\"\n",
        "book.print_info()"
      ],
      "execution_count": null,
      "outputs": [
        {
          "output_type": "error",
          "ename": "NameError",
          "evalue": "ignored",
          "traceback": [
            "\u001b[0;31m---------------------------------------------------------------------------\u001b[0m",
            "\u001b[0;31mNameError\u001b[0m                                 Traceback (most recent call last)",
            "\u001b[0;32m<ipython-input-2-1a68f2fe5092>\u001b[0m in \u001b[0;36m<module>\u001b[0;34m()\u001b[0m\n\u001b[0;32m----> 1\u001b[0;31m \u001b[0mbook\u001b[0m \u001b[0;34m=\u001b[0m \u001b[0mbook\u001b[0m\u001b[0;34m(\u001b[0m\u001b[0;34m)\u001b[0m\u001b[0;34m\u001b[0m\u001b[0;34m\u001b[0m\u001b[0m\n\u001b[0m\u001b[1;32m      2\u001b[0m \u001b[0mbook\u001b[0m\u001b[0;34m.\u001b[0m\u001b[0mauthor\u001b[0m \u001b[0;34m=\u001b[0m \u001b[0;34m'dongin'\u001b[0m\u001b[0;34m\u001b[0m\u001b[0;34m\u001b[0m\u001b[0m\n\u001b[1;32m      3\u001b[0m \u001b[0mbook\u001b[0m\u001b[0;34m.\u001b[0m\u001b[0mtitle\u001b[0m \u001b[0;34m=\u001b[0m \u001b[0;34m\"Python Programming\"\u001b[0m\u001b[0;34m\u001b[0m\u001b[0;34m\u001b[0m\u001b[0m\n\u001b[1;32m      4\u001b[0m \u001b[0mbook\u001b[0m\u001b[0;34m.\u001b[0m\u001b[0mprint_info\u001b[0m\u001b[0;34m(\u001b[0m\u001b[0;34m)\u001b[0m\u001b[0;34m\u001b[0m\u001b[0;34m\u001b[0m\u001b[0m\n",
            "\u001b[0;31mNameError\u001b[0m: name 'book' is not defined"
          ]
        }
      ]
    },
    {
      "cell_type": "markdown",
      "metadata": {
        "id": "8x-oWtbBxCpE"
      },
      "source": [
        "## 인스턴스 속성(Instance Attribute)\n",
        "\n",
        "* 인스턴스 속성은 객체로부터 인스턴스가 생성된 후에 인스턴스에서 활용하는 속성\n",
        "\n",
        "\n"
      ]
    },
    {
      "cell_type": "markdown",
      "metadata": {
        "id": "GbFr5qM78B41"
      },
      "source": [
        "### Book 인스턴스 속성\n",
        "\n",
        "* `Book` 클래스에서 생성된 인스턴스 `b1`에서 속성을 활용"
      ]
    },
    {
      "cell_type": "code",
      "metadata": {
        "id": "A25zZg3vjmk0"
      },
      "source": [
        "class Book(object):\n",
        "  auther = \"\"\n",
        "  title = \"\"\n",
        "  publisher = \"\"\n",
        "  date = \"\"\n",
        "\n",
        "  def print_info(self):\n",
        "    print(f'Author: {self.author}')\n",
        "    print(f'Title: {self.title}')\n",
        "    print(f'Publisher:{self.publisher}')\n",
        "    print(f'Date: {self.date}')\n",
        "    "
      ],
      "execution_count": null,
      "outputs": []
    },
    {
      "cell_type": "code",
      "metadata": {
        "id": "h-Ja0er-oZpe"
      },
      "source": [
        "b1 = book() \n",
        "b1.author = 'dongin'\n",
        "b1.title = \"Python Programming\"\n",
        "b1.publisher = \"Colab\"\n",
        "b1.date = '2021'\n",
        "b1.print_info()\n",
        "\n",
        "b2 = book() \n",
        "b2.author = 'Suzy'\n",
        "b2.title = \"Java Scripts Programming\"\n",
        "b2.publisher = \"Colab\"\n",
        "b2.date = '2022'\n",
        "b2.print_info()"
      ],
      "execution_count": null,
      "outputs": []
    },
    {
      "cell_type": "markdown",
      "metadata": {
        "id": "QJg6wYdSHKFh"
      },
      "source": [
        "## 클래스 속성(Class Attribute)\n",
        "\n",
        "* 클래스 속성은 클래스 자체에서 사용되는 속성\n",
        "\n",
        "\n"
      ]
    },
    {
      "cell_type": "markdown",
      "metadata": {
        "id": "vCwxB_lyIv5D"
      },
      "source": [
        "### Book 클래스 속성\n",
        "\n",
        "* Book 클래스 자체에서 사용되는 속성"
      ]
    },
    {
      "cell_type": "code",
      "metadata": {
        "id": "YH4BbYHookXd"
      },
      "source": [
        "class Book(object):\n",
        "  author = \"\"\n",
        "  title = \"\"\n",
        "  publisher = \"\"\n",
        "  date = \"\"\n",
        "  def print_info(self):\n",
        "    print(\"Author:\", self.author)\n",
        "    print(\"Title:\", self.title)\n",
        "    print(\"Publisher:\", self.publisher)\n",
        "    print(\"Date:\", self.date)\n"
      ],
      "execution_count": null,
      "outputs": []
    },
    {
      "cell_type": "code",
      "metadata": {
        "id": "YBLwbRcrogBc"
      },
      "source": [
        "b1 = Book()\n",
        "Book.author = \"Suan\"\n",
        "Book.title = \"Python Programming\"\n",
        "Book.publisher = \"Colab\"\n",
        "Book.date = \"2020\"\n",
        "b1.print_info()\n"
      ],
      "execution_count": null,
      "outputs": []
    },
    {
      "cell_type": "markdown",
      "metadata": {
        "id": "5rb7_sHfotYO"
      },
      "source": [
        "## 인스턴스 속성와 클래스 속성의 활용\n",
        "\n",
        "* 인스턴스 속성과 클래스 속성을 목적에 맞도록 나누어서 활용\n",
        "\n"
      ]
    },
    {
      "cell_type": "markdown",
      "metadata": {
        "id": "jp55uMrGpYsv"
      },
      "source": [
        "### Book 인스턴스 속성과 클래스 속성\n",
        "\n",
        "* 인스턴스 속성\n",
        "  + 저자: author\n",
        "  + 제목: title\n",
        "  + 출판사: publisher\n",
        "  + 발행일: date\n",
        "* 클래스 속성\n",
        "  + 수량: count"
      ]
    },
    {
      "cell_type": "code",
      "metadata": {
        "id": "6FJ2zFwepLrv"
      },
      "source": [
        "class Book(object):\n",
        "  author = \"\"\n",
        "  title = \"\"\n",
        "  publisher = \"\"\n",
        "  date = \"\"\n",
        "  count = 0\n",
        "\n",
        "  \n",
        "  def print_info(self):\n",
        "    print(\"Author: [self.author]\")\n",
        "    print(\"Title: [self.title]\")\n",
        "    print(\"Publisher: [self.publisher]\")\n",
        "    print(\"Date: [self.date]\")\n"
      ],
      "execution_count": null,
      "outputs": []
    },
    {
      "cell_type": "code",
      "metadata": {
        "id": "QidaPjC2pthz"
      },
      "source": [
        "b1 = Book()\n",
        "Book.count += 1\n",
        "b1.author = \"Suan\"\n",
        "b1.title = \"Python Programming\"\n",
        "b1.publisher = \"Colab\"\n",
        "b1.date = \"2021\"\n",
        "b1.print_info()\n",
        "print(\"Number of Books: [str(Book.count)])"
      ],
      "execution_count": null,
      "outputs": []
    },
    {
      "cell_type": "markdown",
      "metadata": {
        "id": "wfmzBAGRBtWi"
      },
      "source": [
        "## 클래스 매직 메소드(Class Masic Methods)\n"
      ]
    },
    {
      "cell_type": "markdown",
      "metadata": {
        "id": "v4EvwzHBSqO1"
      },
      "source": [
        "- '_'를 2개 붙여서 매직 메서드 또는 속성에 사용가능\n",
        "- '_'(던더)을 속성 앞에 붙이면 가시성을 위한 속성으로 사용\n",
        "- 클래스 매직 메서드의 종류\n",
        "\n",
        "- __init__ 객체의 초기화를 위해 클래스 생성 시 호출되는 동작을 정의\n",
        "- __str__ 클래스의 인스턴스에서 str()이 호출될 때의 동작을 정의\n",
        "- __repr__ 클래스의 인스턴스에서 repr()이 호출될 때의 동작을 정의\n",
        "- __new__ 객체의 인스턴스화에서 호출되는 첫 번째 메소드\n",
        "- __del__ 객체가 소멸될 때 호출되는 메소드\n",
        "- __dir__ 클래스의 인스턴스에서 dir()이 호출될 때의 동작을 정의\n",
        "- __getattr__ 존재하지 않는 속성에 엑세스하려고 시도할 때 행위를 정의\n",
        "- __setattr__ 캡슐화를 위한 방법 정의\n",
        "- __add__ 두 인스턴스의 더하기가 일어날 때 실행되는 동작 정의\n",
        "- __lt__,__le__,__gt__,__ge__,__eq__,__ne__: 인스턴스 간의 <,<=,>,>=,==,!= 비교 메서드"
      ]
    },
    {
      "cell_type": "markdown",
      "metadata": {
        "id": "EZwYD92qt4gh"
      },
      "source": [
        "### `__init__()`\n",
        "\n",
        "* `__init__()` 메소드를 이용하여 클래스의 속성들을 초기화"
      ]
    },
    {
      "cell_type": "code",
      "metadata": {
        "id": "c6Lwij3DTqc6"
      },
      "source": [
        "class Book(object):\n",
        "  count = 0\n",
        "\n",
        "  def __init__(self, author, title, publisher, date):\n",
        "    self.author = author\n",
        "    self.title = title\n",
        "    self.publisher = publisher\n",
        "    self.date = date\n",
        "    Book.count += 1\n",
        "  \n",
        "  def print_info(self):\n",
        "    print(f\"Author: {self.author}\")\n",
        "    print(f\"Title: {self.title}\")\n",
        "    print(f\"Publisher: {self.publisher}\")\n",
        "    print(f\"Date: {self.date}\")"
      ],
      "execution_count": null,
      "outputs": []
    },
    {
      "cell_type": "code",
      "metadata": {
        "id": "CAP0Gys9TqTa"
      },
      "source": [
        "b1 = Book()\n",
        "Book.count += 1\n",
        "b1.author = \"Dongin\"\n",
        "b1.title = \"Python Programming\"\n",
        "b1.publisher = \"Colab\"\n",
        "b1.date = \"2021\"\n",
        "b1.print_info()\n",
        "print(f\"Number of Books: {str(Book.count)}\")"
      ],
      "execution_count": null,
      "outputs": []
    },
    {
      "cell_type": "markdown",
      "metadata": {
        "id": "gTRPQI5cu_vU"
      },
      "source": [
        "### `__str__()`\n",
        "\n",
        "* `__str__()` 메소드를 이용하여 인스턴스 출력"
      ]
    },
    {
      "cell_type": "code",
      "metadata": {
        "id": "bL6daMJQUORT"
      },
      "source": [
        "class Book(object):\n",
        "  count = 0\n",
        "  def __init__(self, author, title, publisher, date):\n",
        "    self.author = author\n",
        "    self.title = title\n",
        "    self.publisher = publisher\n",
        "    self.date = date\n",
        "    Book.count += 1\n",
        "\n",
        " def __str__(self):\n",
        "    return (\"Author:\" + self.author + \\\n",
        "            \"\\nTitle:\" + self.title + \\\n",
        "            \"\\nPublisher:\" + self.publisher + \\\n",
        "            \"\\nDate:\" + self.date)"
      ],
      "execution_count": null,
      "outputs": []
    },
    {
      "cell_type": "code",
      "metadata": {
        "id": "bMApu0MnUOJC"
      },
      "source": [
        "book = Book(\"Dongin\", \"Python Programming\", \"Colab\", \"2020\")\n",
        "print(book)\n",
        "print(f\"Number of Books: {str(Book.count)}\")"
      ],
      "execution_count": null,
      "outputs": []
    },
    {
      "cell_type": "markdown",
      "metadata": {
        "id": "400E5EtqwBq3"
      },
      "source": [
        "### 매직 메소드 예제\n",
        "\n",
        "* Line 클래스"
      ]
    },
    {
      "cell_type": "code",
      "metadata": {
        "id": "gXNFDv-mZont"
      },
      "source": [
        "class Line():\n",
        "  length = 0 # 클래스 변수\n",
        "\n",
        "  def __init__(self, length):\n",
        "    self.length = length # 인스턴스 변수\n",
        "    print(self.length, \"길이의 선 생성\")\n",
        "  \n",
        "  def __del__(self):\n",
        "    print(self.length, \"길이의 선 제거\") # del()\n",
        "  \n",
        "  def __repr__(self):\n",
        "    return str(self.length)\n",
        "  \n",
        "  def __add__(self, other):\n",
        "    return self.length + other.length\n",
        "  \n",
        "  def __lt__(self, other):\n",
        "    return self.length < other.length\n",
        "\n",
        "  def __le__(self, other):\n",
        "    return self.length <= other.length\n",
        "  \n",
        "  def __gt__(self, other):\n",
        "    return self.length > other.length\n",
        "\n",
        "  def __ge__(self, other):\n",
        "    return self.length >= other.length\n",
        "    \n",
        "  def __eq__(self, other):\n",
        "    return self.length == other.length\n",
        "  \n",
        "  def __ne__(self, other):\n",
        "    return self.length != other.length"
      ],
      "execution_count": null,
      "outputs": []
    },
    {
      "cell_type": "code",
      "metadata": {
        "id": "AtOzNMXFaPj8"
      },
      "source": [
        "l1 = Line(20)\n",
        "print(l1)\n",
        "\n",
        "l2 = Line(20)\n",
        "print(l2)\n",
        "\n",
        "print(\"선의 합:\", l1 + l2)\n",
        "\n",
        "if l1 < l2:\n",
        "  print(l1, '<', l2)\n",
        "elif l1 <= l2:\n",
        "  print(l1, '<=', l2)\n",
        "elif l1 > l2:\n",
        "  print(l1, '>', l2)\n",
        "elif l1 >= l2:\n",
        "  print(l1, '>=', l2)\n",
        "elif l1 == l2:\n",
        "  print(l1, '==', l2)\n",
        "elif l1 != l2:\n",
        "  print(l1, '!=', l2)\n",
        "else:\n",
        "  pass\n",
        "\n",
        "del(l1)\n",
        "del(l2)\n"
      ],
      "execution_count": null,
      "outputs": []
    },
    {
      "cell_type": "markdown",
      "metadata": {
        "id": "7rnSGoFCxvKK"
      },
      "source": [
        "### 가시성 예제\n",
        "\n",
        "* `__items` 속성은 Box 객체 외부에서 보이지 않도록 캡슐화와 정보 은닉이 가능\n",
        "* 외부에서 `__items` 속성에 접근하면 속성 오류 발생"
      ]
    },
    {
      "cell_type": "code",
      "metadata": {
        "id": "DTrIbq53x3ZI"
      },
      "source": [
        "class Box(object):\n",
        "  def __init__(self, name):\n",
        "    self.name = name\n",
        "    self.__items = []\n",
        "  \n",
        "  def add_item(self, item):\n",
        "    self.__items.append(item)\n",
        "    print(\"아이템 추가\")\n",
        "  \n",
        "  def get_number_of_items(self):\n",
        "    return len(self.__items)\n"
      ],
      "execution_count": null,
      "outputs": []
    },
    {
      "cell_type": "code",
      "metadata": {
        "id": "AU5wHppgyLbh"
      },
      "source": [
        "box = Box(\"Box\")\n",
        "box.add_item(\"Item1\")\n",
        "box.add_item(\"Item2\")\n",
        "print(box.name)\n",
        "print(box.get_number_of_items())\n",
        "#print(box. items)"
      ],
      "execution_count": null,
      "outputs": []
    },
    {
      "cell_type": "markdown",
      "metadata": {
        "id": "Gid0aLGUBx9D"
      },
      "source": [
        "## 클래스 상속(Class Inheritance)\n"
      ]
    },
    {
      "cell_type": "markdown",
      "metadata": {
        "id": "DztzkOFLa5gU"
      },
      "source": [
        "- 기존 클래스에 있는 속성과 메서드를 그대로 상속받아 새로운 클래스를 생성\n",
        "- 공통된 클래스를 부모로 두고 자식들이 상속을 받아 클래스를 생성하므로 일관성있는 프로 그래밍 가능\n",
        "- 기존 클래스에서 일부를 추가/변경한 새로운 클래스 생성으로 재사용(reuse)가능\n",
        "- 클래스 상속 문법: class SubClass(SuperClass):"
      ]
    },
    {
      "cell_type": "code",
      "metadata": {
        "id": "QFIEB2XP1XsW"
      },
      "source": [
        "class SuperClass():\n",
        "  pass\n",
        "class SubClass(SuperClass):\n",
        "  pass\n"
      ],
      "execution_count": null,
      "outputs": []
    },
    {
      "cell_type": "markdown",
      "metadata": {
        "id": "YILvez-k05pV"
      },
      "source": [
        "### 메소드 오버라이딩(Method Overriding)\n",
        "\n",
        "\n"
      ]
    },
    {
      "cell_type": "markdown",
      "metadata": {
        "id": "77EkAVmVbbxq"
      },
      "source": [
        "- SuperClass로부터 SubClass1과 subClass2가 상속\n",
        "- 아무 내용도 없는 추상 메서드(Avstract method)method()를 정의\n",
        "- SubClass1의 method()는 SuperClass의 추상 메서드를 오버라이딩"
      ]
    },
    {
      "cell_type": "code",
      "metadata": {
        "id": "np_aylDHzSXs"
      },
      "source": [
        "class SuperClass(object):\n",
        "  def method(self):\n",
        "    pass\n",
        "    \n",
        "class SubClass1(SuperClass):\n",
        "  def method(self):\n",
        "    print(\"Method Overriding\")\n",
        "class SubClass2(SuperClass):\n",
        "  pass\n"
      ],
      "execution_count": null,
      "outputs": []
    },
    {
      "cell_type": "code",
      "metadata": {
        "id": "HCPloTpu2tJf"
      },
      "source": [
        "sub1 = SubClass1()\n",
        "sub2 = SubClass2()\n",
        "\n",
        "sub1.method()\n",
        "sub2.method()"
      ],
      "execution_count": null,
      "outputs": []
    },
    {
      "cell_type": "markdown",
      "metadata": {
        "id": "5JcJXHiUyqmt"
      },
      "source": [
        "### 클래스 상속, 메소드 오버라이딩 예제\n",
        "\n",
        "* Vehicle 클래스를 상속받아 Car 클래스와 Truck 클래스 생성\n",
        "* Car 클래스와 Truck 클래스는 up_speed 메소드를 오버라이딩\n",
        "* Car 클래스는 속도가 240 초과되면 240으로 조정\n",
        "* Truck 클래스는 속도가 180 초과되면 180으로 조정"
      ]
    },
    {
      "cell_type": "code",
      "metadata": {
        "id": "WAQOF_BcB2ww"
      },
      "source": [
        "class Vehicle():# 수퍼 클래스, 상위 클래스, 부모 클래스\n",
        "  speed = 0\n",
        "  def up_speed(self, value):\n",
        "    self.speed += value\n",
        "  \n",
        "  def down_speed(self, value):\n",
        "    self.speed -= value\n",
        "  \n",
        "  def print_speed(self):\n",
        "    print(\"Speed:\", str(self.speed))\n",
        "\n",
        "class Car(Vehicle): # 서브 클래스, 하위 클래스, 자식 클래스\n",
        "  def up_speed(self, value):\n",
        "    self.speed += value\n",
        "    if self.speed > 240: self.speed = 240\n",
        "\n",
        "class Truck(Vehicle):\n",
        "  def up_speed(self, value):\n",
        "    self.speed += value\n",
        "    if self.speed > 180: self.speed = 180"
      ],
      "execution_count": null,
      "outputs": []
    },
    {
      "cell_type": "code",
      "metadata": {
        "id": "xjlG-ZDM3tXw"
      },
      "source": [
        "car = Car()\n",
        "car.up_speed(300)\n",
        "car.print_speed()\n",
        "car.down_speed(200)\n",
        "car.print_speed()"
      ],
      "execution_count": null,
      "outputs": []
    },
    {
      "cell_type": "code",
      "metadata": {
        "id": "mnRiu1yyc9qB"
      },
      "source": [
        "car = Truck()\n",
        "truck.up_speed(300)\n",
        "truck.print_speed()\n",
        "truck.down_speed(30)\n",
        "truck.print_speed()"
      ],
      "execution_count": null,
      "outputs": []
    },
    {
      "cell_type": "code",
      "metadata": {
        "id": "HAyXMxVidRp7"
      },
      "source": [
        ""
      ],
      "execution_count": null,
      "outputs": []
    }
  ]
}