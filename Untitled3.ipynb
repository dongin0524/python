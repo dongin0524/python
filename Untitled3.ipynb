{
  "nbformat": 4,
  "nbformat_minor": 0,
  "metadata": {
    "colab": {
      "name": "Untitled3.ipynb",
      "provenance": [],
      "authorship_tag": "ABX9TyN30/E4NvDU8YkN87ZTtXz6",
      "include_colab_link": true
    },
    "kernelspec": {
      "name": "python3",
      "display_name": "Python 3"
    },
    "language_info": {
      "name": "python"
    }
  },
  "cells": [
    {
      "cell_type": "markdown",
      "metadata": {
        "id": "view-in-github",
        "colab_type": "text"
      },
      "source": [
        "<a href=\"https://colab.research.google.com/github/dongin0524/python/blob/main/Untitled3.ipynb\" target=\"_parent\"><img src=\"https://colab.research.google.com/assets/colab-badge.svg\" alt=\"Open In Colab\"/></a>"
      ]
    },
    {
      "cell_type": "code",
      "metadata": {
        "id": "D-hrbIRGQttC"
      },
      "source": [
        "def solution(result):\n",
        "    score=0\n",
        "    for a in result:\n",
        "        if a=='W':\n",
        "            score = score + 3\n",
        "        elif a=='D':\n",
        "            score = score + 1\n",
        "    return score"
      ],
      "execution_count": null,
      "outputs": []
    },
    {
      "cell_type": "code",
      "metadata": {
        "colab": {
          "base_uri": "https://localhost:8080/"
        },
        "id": "GFUT3slpT_V5",
        "outputId": "5d40caa4-2e09-42e7-cf03-dd93757a70cf"
      },
      "source": [
        "print(solution(\"WWDDW\"))"
      ],
      "execution_count": null,
      "outputs": [
        {
          "output_type": "stream",
          "name": "stdout",
          "text": [
            "60\n"
          ]
        }
      ]
    },
    {
      "cell_type": "code",
      "metadata": {
        "id": "aO76pNB2UGFB"
      },
      "source": [
        "def solution(result):\n",
        "    score = 0\n",
        "    for i in result:\n",
        "        if i=='a':\n",
        "            score = score + 1\n",
        "        elif i=='i':\n",
        "            score = score + 1\n",
        "        elif i=='e':\n",
        "            score = score + 1\n",
        "        elif i=='o':\n",
        "            score = score + 1\n",
        "        elif i=='u':\n",
        "            score = score + 1\n",
        "        elif i=='A':\n",
        "            score = score + 1\n",
        "        elif i=='I':\n",
        "            score = score + 1\n",
        "        elif i=='E':\n",
        "            score = score + 1\n",
        "        elif i=='O':\n",
        "            score = score + 1\n",
        "        elif i=='U':\n",
        "            score = score + 1\n",
        "    return score"
      ],
      "execution_count": null,
      "outputs": []
    },
    {
      "cell_type": "code",
      "metadata": {
        "colab": {
          "base_uri": "https://localhost:8080/"
        },
        "id": "sQbjwPS4VcSE",
        "outputId": "ddc8d082-1e9e-494c-ca9c-a072b77f622c"
      },
      "source": [
        "print(solution('I love you'))"
      ],
      "execution_count": null,
      "outputs": [
        {
          "output_type": "stream",
          "name": "stdout",
          "text": [
            "5\n"
          ]
        }
      ]
    },
    {
      "cell_type": "code",
      "metadata": {
        "id": "InDgYPU4Vpg3"
      },
      "source": [
        ""
      ],
      "execution_count": null,
      "outputs": []
    }
  ]
}