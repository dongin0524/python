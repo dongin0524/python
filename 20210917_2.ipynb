{
  "nbformat": 4,
  "nbformat_minor": 0,
  "metadata": {
    "colab": {
      "name": "20210917-2.ipynb",
      "provenance": [],
      "authorship_tag": "ABX9TyO28cKiplgRfQa7y1Ecj1Aq",
      "include_colab_link": true
    },
    "kernelspec": {
      "name": "python3",
      "display_name": "Python 3"
    },
    "language_info": {
      "name": "python"
    }
  },
  "cells": [
    {
      "cell_type": "markdown",
      "metadata": {
        "id": "view-in-github",
        "colab_type": "text"
      },
      "source": [
        "<a href=\"https://colab.research.google.com/github/dongin0524/python/blob/main/20210917_2.ipynb\" target=\"_parent\"><img src=\"https://colab.research.google.com/assets/colab-badge.svg\" alt=\"Open In Colab\"/></a>"
      ]
    },
    {
      "cell_type": "code",
      "metadata": {
        "colab": {
          "base_uri": "https://localhost:8080/"
        },
        "id": "xFbWkGgEQ98_",
        "outputId": "76e39d98-19a2-4630-f7e0-c5f65579f340"
      },
      "source": [
        "def addcalc(x,y):\n",
        " return x+y\n",
        "\n",
        "#result = addcalc(5,7)\n",
        "#print(result)\n",
        "\n",
        "\n",
        "a,b = input('값을 두개 입력하세영:').split('+')\n",
        "\n",
        "result = addcalc(int(a), int(b))\n",
        "print(result)"
      ],
      "execution_count": null,
      "outputs": [
        {
          "output_type": "stream",
          "name": "stdout",
          "text": [
            "값을 두개 입력하세영:9+7\n",
            "16\n"
          ]
        }
      ]
    },
    {
      "cell_type": "code",
      "metadata": {
        "colab": {
          "base_uri": "https://localhost:8080/"
        },
        "id": "kHxDnUEGRg-g",
        "outputId": "7c797b36-f40b-4ce6-c882-e96b64664656"
      },
      "source": [
        "def minuscalc(x,y):\n",
        " return x-y\n",
        "\n",
        "a,b = input('값을 두개 입력하세요:').split('-')\n",
        "\n",
        "result = minuscalc(int(a), int(b))\n",
        "print(result)"
      ],
      "execution_count": null,
      "outputs": [
        {
          "output_type": "stream",
          "name": "stdout",
          "text": [
            "값을 두개 입력하세요:1-9\n",
            "-8\n"
          ]
        }
      ]
    },
    {
      "cell_type": "code",
      "metadata": {
        "id": "9Ar-BARPTI6s"
      },
      "source": [
        "def age(a):\n",
        "  if a<20:\n",
        "    print('급식충')\n",
        "  else:\n",
        "    print('틀딱')\n",
        "\n",
        "b = input('나이를 입력하세요:')\n",
        "age(int(b))"
      ],
      "execution_count": null,
      "outputs": []
    },
    {
      "cell_type": "code",
      "metadata": {
        "id": "p7YvkrPxUM8q"
      },
      "source": [
        "."
      ],
      "execution_count": null,
      "outputs": []
    }
  ]
}