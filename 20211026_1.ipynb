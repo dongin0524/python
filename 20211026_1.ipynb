{
  "nbformat": 4,
  "nbformat_minor": 0,
  "metadata": {
    "colab": {
      "name": "20211026-1.ipynb",
      "provenance": [],
      "authorship_tag": "ABX9TyNX3w2Yw/onmf0+g9xWQJb5",
      "include_colab_link": true
    },
    "kernelspec": {
      "name": "python3",
      "display_name": "Python 3"
    },
    "language_info": {
      "name": "python"
    }
  },
  "cells": [
    {
      "cell_type": "markdown",
      "metadata": {
        "id": "view-in-github",
        "colab_type": "text"
      },
      "source": [
        "<a href=\"https://colab.research.google.com/github/dongin0524/python/blob/main/20211026_1.ipynb\" target=\"_parent\"><img src=\"https://colab.research.google.com/assets/colab-badge.svg\" alt=\"Open In Colab\"/></a>"
      ]
    },
    {
      "cell_type": "code",
      "metadata": {
        "id": "DW08RS_e1-8V"
      },
      "source": [
        "def solution(n):\n",
        "   sum = 0\n",
        "   while n>0:\n",
        "      sum = sum + (n%10)\n",
        "      n = n//10\n",
        "   return sum "
      ],
      "execution_count": null,
      "outputs": []
    },
    {
      "cell_type": "code",
      "metadata": {
        "colab": {
          "base_uri": "https://localhost:8080/"
        },
        "id": "R5GpM7G95RwB",
        "outputId": "cfe85cd4-53b3-4288-d43c-e91b577d708c"
      },
      "source": [
        "print(solution(123456789))"
      ],
      "execution_count": null,
      "outputs": [
        {
          "output_type": "stream",
          "name": "stdout",
          "text": [
            "46\n"
          ]
        }
      ]
    },
    {
      "cell_type": "code",
      "metadata": {
        "id": "SFsQVpZs5W6w"
      },
      "source": [
        "def solution(n):\n",
        "    sum = 0\n",
        "    while n>0 :\n",
        "        sum+=n%10\n",
        "        n//=10\n",
        "    return sum"
      ],
      "execution_count": null,
      "outputs": []
    },
    {
      "cell_type": "code",
      "metadata": {
        "colab": {
          "base_uri": "https://localhost:8080/"
        },
        "id": "0vj8g3fV66C-",
        "outputId": "ba4560d0-6984-4a80-cd31-a009a9d26e13"
      },
      "source": [
        "a = 12345\n",
        "sum = 0\n",
        "for i in str(a):\n",
        "    sum = sum + int(i)\n",
        "print(sum)"
      ],
      "execution_count": null,
      "outputs": [
        {
          "output_type": "stream",
          "name": "stdout",
          "text": [
            "15\n"
          ]
        }
      ]
    },
    {
      "cell_type": "code",
      "metadata": {
        "id": "Ly16YvQc8fja"
      },
      "source": [
        ""
      ],
      "execution_count": null,
      "outputs": []
    }
  ]
}