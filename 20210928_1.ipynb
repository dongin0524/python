{
  "nbformat": 4,
  "nbformat_minor": 0,
  "metadata": {
    "colab": {
      "name": "20210928-1.ipynb",
      "provenance": [],
      "authorship_tag": "ABX9TyNMI22aPmiyohiw43iBmAR1",
      "include_colab_link": true
    },
    "kernelspec": {
      "name": "python3",
      "display_name": "Python 3"
    },
    "language_info": {
      "name": "python"
    }
  },
  "cells": [
    {
      "cell_type": "markdown",
      "metadata": {
        "id": "view-in-github",
        "colab_type": "text"
      },
      "source": [
        "<a href=\"https://colab.research.google.com/github/dongin0524/python/blob/main/20210928_1.ipynb\" target=\"_parent\"><img src=\"https://colab.research.google.com/assets/colab-badge.svg\" alt=\"Open In Colab\"/></a>"
      ]
    },
    {
      "cell_type": "code",
      "metadata": {
        "colab": {
          "base_uri": "https://localhost:8080/"
        },
        "id": "kDFJn2bN4U6m",
        "outputId": "2d3b6be4-bff6-4c42-a34a-b8343f167dca"
      },
      "source": [
        "num = 10\n",
        "\n",
        "for i in range(1,11):\n",
        "    if num%i == 0:\n",
        "       print(i, end=' ')"
      ],
      "execution_count": null,
      "outputs": [
        {
          "output_type": "stream",
          "name": "stdout",
          "text": [
            "1 2 5 10 "
          ]
        }
      ]
    },
    {
      "cell_type": "code",
      "metadata": {
        "colab": {
          "base_uri": "https://localhost:8080/"
        },
        "id": "aPci3LGO4iXw",
        "outputId": "3e762e64-f1bb-4c65-f3d2-2bc37461b08a"
      },
      "source": [
        "num = 100\n",
        "\n",
        "for i in range(1,101):\n",
        "    if num%i == 0:\n",
        "       print(i, end=' ')"
      ],
      "execution_count": null,
      "outputs": [
        {
          "output_type": "stream",
          "name": "stdout",
          "text": [
            "1 2 4 5 10 20 25 50 100 "
          ]
        }
      ]
    },
    {
      "cell_type": "code",
      "metadata": {
        "colab": {
          "base_uri": "https://localhost:8080/"
        },
        "id": "iCjovDK95FWN",
        "outputId": "bac1b395-1d90-429b-dd7d-e98ab7afadc8"
      },
      "source": [
        "num = int(input('값을 입력하세영:'))\n",
        "for i in range(1,num+1):\n",
        "  if num % i == 0:\n",
        "     print(i, end=' ')"
      ],
      "execution_count": null,
      "outputs": [
        {
          "output_type": "stream",
          "name": "stdout",
          "text": [
            "값을 입력하세영:18\n",
            "1 2 3 6 9 18 "
          ]
        }
      ]
    },
    {
      "cell_type": "code",
      "metadata": {
        "colab": {
          "base_uri": "https://localhost:8080/"
        },
        "id": "piZQYqyo5iAd",
        "outputId": "3d6ff30f-1750-481a-9a37-21279c77a5b1"
      },
      "source": [
        "num = 10\n",
        "count = 0\n",
        "\n",
        "for i in range(1,11):\n",
        "    if num%i == 0:\n",
        "       count = count+1\n",
        "\n",
        "print(count)"
      ],
      "execution_count": null,
      "outputs": [
        {
          "output_type": "stream",
          "name": "stdout",
          "text": [
            "4\n"
          ]
        }
      ]
    },
    {
      "cell_type": "code",
      "metadata": {
        "colab": {
          "base_uri": "https://localhost:8080/"
        },
        "id": "q-cDc9Il6Bvi",
        "outputId": "9cf30065-0880-499f-c296-42afc84ad244"
      },
      "source": [
        "num = int(input('값을 입력하세용: '))\n",
        "count = 0\n",
        "\n",
        "for i in range(1,num+1):\n",
        "    if num%i == 0:\n",
        "       count = count+1\n",
        "\n",
        "print('입력하신 {0}의 약수의 개수는 {1}입니당.'.format(num,count))"
      ],
      "execution_count": null,
      "outputs": [
        {
          "output_type": "stream",
          "name": "stdout",
          "text": [
            "값을 입력하세용: 42768\n",
            "입력하신 42768의 약수의 개수는 60입니당.\n"
          ]
        }
      ]
    },
    {
      "cell_type": "code",
      "metadata": {
        "colab": {
          "base_uri": "https://localhost:8080/"
        },
        "id": "6XUQFHYi7MZb",
        "outputId": "84c19e34-c052-4474-c482-ead6e6d05952"
      },
      "source": [
        "num = int(input('값을 입력하세영: '))\n",
        "count = 0\n",
        "\n",
        "for i in range(1,num+1):\n",
        "    if num % i == 0:\n",
        "        count = count + 1\n",
        "\n",
        "if count == 2:\n",
        "    print('소수입니당')\n",
        "else:\n",
        "    print('소수아니여 ㅄ아')"
      ],
      "execution_count": null,
      "outputs": [
        {
          "output_type": "stream",
          "name": "stdout",
          "text": [
            "값을 입력하세영: 79\n",
            "소수입니당\n"
          ]
        }
      ]
    },
    {
      "cell_type": "code",
      "metadata": {
        "id": "njsQD9Yx8YLG"
      },
      "source": [
        ""
      ],
      "execution_count": null,
      "outputs": []
    }
  ]
}