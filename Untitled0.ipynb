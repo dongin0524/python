{
  "nbformat": 4,
  "nbformat_minor": 0,
  "metadata": {
    "colab": {
      "name": "Untitled0.ipynb",
      "provenance": [],
      "authorship_tag": "ABX9TyPq2B5uM8wDiA25Gc1bot6A",
      "include_colab_link": true
    },
    "kernelspec": {
      "display_name": "Python 3",
      "name": "python3"
    },
    "language_info": {
      "name": "python"
    }
  },
  "cells": [
    {
      "cell_type": "markdown",
      "metadata": {
        "id": "view-in-github",
        "colab_type": "text"
      },
      "source": [
        "<a href=\"https://colab.research.google.com/github/dongin0524/python/blob/main/Untitled0.ipynb\" target=\"_parent\"><img src=\"https://colab.research.google.com/assets/colab-badge.svg\" alt=\"Open In Colab\"/></a>"
      ]
    },
    {
      "cell_type": "code",
      "metadata": {
        "colab": {
          "background_save": true
        },
        "id": "lXmoC2eqzjq7"
      },
      "source": [
        "import random\n",
        "\n",
        "print(\"******************\")\n",
        "print(\"*******식보*******\")\n",
        "print(\"******************\")\n",
        "\n",
        "money = 1000000\n",
        "print('내돈 : {0}'.format(money))\n",
        "\n",
        "while True:\n",
        " s = random.randrange(1,7)\n",
        " e = random.randrange(1,7)\n",
        " x = random.randrange(1,7)\n",
        " bet = input('입력(B:11~17,S:4~10)')\n",
        " print('주사위: {0},{1},{2}'.format(s,e,x))\n",
        " \n",
        " result = s + e + x\n",
        " if result > 3 and result < 11:\n",
        "    print('결과 : S')\n",
        " else:\n",
        "    print('결과 : B')\n",
        "\n",
        " if (bet == 'B') and (result > 3 and result < 11):\n",
        "   print('당신은 돈을 잃었습니다.')\n",
        "   money -= 50000\n",
        " elif (bet == 'B') and (result > 10 and result < 18):\n",
        "   print('당신은 돈을 얻었습니다!')\n",
        "   money += 50000000\n",
        " elif (bet == 'S') and (result > 10 and result < 18):\n",
        "   print('당신은 돈을 잃었습니다.')\n",
        "   money -= 50000 \n",
        " elif (bet == 'S') and (result > 3 and result < 11):\n",
        "   print('당신은 돈을 얻었습니다!')\n",
        "   money += 50000000\n",
        "\n",
        " print('내돈: {0}\\n'.format(money))"
      ],
      "execution_count": null,
      "outputs": []
    },
    {
      "cell_type": "code",
      "metadata": {
        "colab": {
          "background_save": true,
          "base_uri": "https://localhost:8080/"
        },
        "id": "hgksaOl2_cPX",
        "outputId": "85cbfd23-046c-4cc5-8122-e03db69bc4c0"
      },
      "source": [
        "import random\n",
        "\n",
        "print('='*10)\n",
        "print('===식보===')\n",
        "print('='*10)\n",
        "\n",
        "money = 1000000\n",
        "print('내돈 : {0}'.format(money))\n",
        "\n",
        "while True:\n",
        " a = random.randrange(1,7)\n",
        " b = random.randrange(1,7)\n",
        " c = random.randrange(1,7)\n",
        " bet = input('입력: 1~7,1~7 ')\n",
        " print('주사위: {0},{1},{2}'.format(a,b,c))\n",
        "\n"
      ],
      "execution_count": null,
      "outputs": [
        {
          "name": "stdout",
          "output_type": "stream",
          "text": [
            "==========\n",
            "===식보===\n",
            "==========\n",
            "내돈 : 1000000\n",
            "주사위: 6,3,1\n"
          ]
        }
      ]
    },
    {
      "cell_type": "code",
      "metadata": {
        "id": "rWpNfnNrp-eh"
      },
      "source": [
        ""
      ],
      "execution_count": null,
      "outputs": []
    }
  ]
}