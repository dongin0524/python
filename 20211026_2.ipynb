{
  "nbformat": 4,
  "nbformat_minor": 0,
  "metadata": {
    "colab": {
      "name": "20211026-2.ipynb",
      "provenance": [],
      "authorship_tag": "ABX9TyNl45sJgU3jZTH4gFaho5Cv",
      "include_colab_link": true
    },
    "kernelspec": {
      "name": "python3",
      "display_name": "Python 3"
    },
    "language_info": {
      "name": "python"
    }
  },
  "cells": [
    {
      "cell_type": "markdown",
      "metadata": {
        "id": "view-in-github",
        "colab_type": "text"
      },
      "source": [
        "<a href=\"https://colab.research.google.com/github/dongin0524/python/blob/main/20211026_2.ipynb\" target=\"_parent\"><img src=\"https://colab.research.google.com/assets/colab-badge.svg\" alt=\"Open In Colab\"/></a>"
      ]
    },
    {
      "cell_type": "code",
      "metadata": {
        "id": "EpttxB8YDTFp"
      },
      "source": [
        "def is_palindrome(word):\n",
        "    pivot = len(word)//2\n",
        "    \n",
        "    for i in range(1, pivot+1):\n",
        "        if word[pivot-i] != word[pivot+i]:\n",
        "            return \"X\"\n",
        "    \n",
        "    return \"O\""
      ],
      "execution_count": null,
      "outputs": []
    },
    {
      "cell_type": "code",
      "metadata": {
        "colab": {
          "base_uri": "https://localhost:8080/"
        },
        "id": "_ZPXpGZyDaQT",
        "outputId": "f9485e2d-e0b2-44ae-8f9f-9378d3fe9eeb"
      },
      "source": [
        "print(is_palindrome(\"토마토\"))"
      ],
      "execution_count": null,
      "outputs": [
        {
          "output_type": "stream",
          "name": "stdout",
          "text": [
            "O\n"
          ]
        }
      ]
    },
    {
      "cell_type": "code",
      "metadata": {
        "id": "DUzDDzcZDrRg"
      },
      "source": [
        "def solution(word):\n",
        "    myword = list(word)\n",
        "    for i in range(0,len(myword)//2):\n",
        "        if myword[i] == myword[len(myword)-i-1]:\n",
        "            continue\n",
        "        else:\n",
        "          return 'X'\n",
        "    return 'O'"
      ],
      "execution_count": null,
      "outputs": []
    },
    {
      "cell_type": "code",
      "metadata": {
        "colab": {
          "base_uri": "https://localhost:8080/"
        },
        "id": "gwDR8L13HJ_1",
        "outputId": "7239e5cc-02c8-4023-8dac-51043b999f8d"
      },
      "source": [
        "print(solution('aaaabbaaaa'))"
      ],
      "execution_count": null,
      "outputs": [
        {
          "output_type": "stream",
          "name": "stdout",
          "text": [
            "O\n"
          ]
        }
      ]
    },
    {
      "cell_type": "code",
      "metadata": {
        "id": "VuceQ6NJHSZM"
      },
      "source": [
        ""
      ],
      "execution_count": null,
      "outputs": []
    }
  ]
}