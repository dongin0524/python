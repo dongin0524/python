{
  "nbformat": 4,
  "nbformat_minor": 0,
  "metadata": {
    "colab": {
      "name": "20211022.ipynb",
      "provenance": [],
      "authorship_tag": "ABX9TyPlCVtxMSt7BIOSHvOcbD1q",
      "include_colab_link": true
    },
    "kernelspec": {
      "name": "python3",
      "display_name": "Python 3"
    },
    "language_info": {
      "name": "python"
    }
  },
  "cells": [
    {
      "cell_type": "markdown",
      "metadata": {
        "id": "view-in-github",
        "colab_type": "text"
      },
      "source": [
        "<a href=\"https://colab.research.google.com/github/dongin0524/python/blob/main/20211022.ipynb\" target=\"_parent\"><img src=\"https://colab.research.google.com/assets/colab-badge.svg\" alt=\"Open In Colab\"/></a>"
      ]
    },
    {
      "cell_type": "code",
      "metadata": {
        "colab": {
          "base_uri": "https://localhost:8080/"
        },
        "id": "L4KCDl8FR3W0",
        "outputId": "bf7a1052-2f98-4b61-cab9-d258f10275ca"
      },
      "source": [
        "a, b = 12345651234565456543456543, 4315243523452435674656666464646644\n",
        "if(b>a) : a,b = b,a\n",
        "\n",
        "while(b!=0):\n",
        "  a=a%b\n",
        "  a,b=b,a\n",
        "\n",
        "print(a)"
      ],
      "execution_count": null,
      "outputs": [
        {
          "output_type": "stream",
          "name": "stdout",
          "text": [
            "1\n"
          ]
        }
      ]
    },
    {
      "cell_type": "code",
      "metadata": {
        "colab": {
          "base_uri": "https://localhost:8080/"
        },
        "id": "72qwgoUPSBvj",
        "outputId": "c816f40d-ecb8-4c7d-e570-cf8e195a1d87"
      },
      "source": [
        "a = int(input('첫번째 수:'))\n",
        "b = int(input('두번째 수:'))\n",
        "if(b>a) : a,b = b,a\n",
        "\n",
        "while(b!=0):\n",
        "  a=a%b\n",
        "  a,b=b,a\n",
        "\n",
        "print('입력한 두 수 a,b의 최대공약수는 {0} 입니다'.format(a))"
      ],
      "execution_count": null,
      "outputs": [
        {
          "output_type": "stream",
          "name": "stdout",
          "text": [
            "첫번째 수:100\n",
            "두번째 수:63\n",
            "입력한 두 수 a,b의 최대공약수는 1 입니다\n"
          ]
        }
      ]
    },
    {
      "cell_type": "code",
      "metadata": {
        "id": "uVLvr_Dugnvl"
      },
      "source": [
        ""
      ],
      "execution_count": null,
      "outputs": []
    }
  ]
}